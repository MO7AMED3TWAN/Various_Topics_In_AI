{
 "cells": [
  {
   "cell_type": "markdown",
   "id": "f55089c5-c850-4221-be89-c7abcfe1c810",
   "metadata": {},
   "source": [
    "# Drop Nulls"
   ]
  },
  {
   "cell_type": "code",
   "execution_count": null,
   "id": "9d2ca1e9-6f5d-4c6d-9e50-ff7ad91a5eaa",
   "metadata": {},
   "outputs": [],
   "source": [
    "\"\"\"\n",
    "- Simply Drop\n",
    "- The most simple strategy is to drop the rows with null values if you have a good enough size of data.\n",
    "\"\"\"\n",
    "\n",
    "data=pd.read_excel(r\"\")#my data\n",
    "\n",
    "data.dropna()"
   ]
  },
  {
   "cell_type": "markdown",
   "id": "3fa59d92-2514-41d7-8b78-2cd1151e3a35",
   "metadata": {},
   "source": [
    "# FILL With ZEROS"
   ]
  },
  {
   "cell_type": "code",
   "execution_count": null,
   "id": "86baff17-8fa4-4663-b9a4-4ad7100e5f31",
   "metadata": {},
   "outputs": [],
   "source": [
    "\"\"\"\n",
    "Filling with Zeros\n",
    "Another very easy and simple way. You can fill up all the null values with zeros to make the process really simple.\n",
    "\"\"\"\n",
    "\n",
    "data=pd.read_excel(r\"\")#my data\n",
    "\n",
    "data['ColName'].fillna(0)"
   ]
  },
  {
   "cell_type": "markdown",
   "id": "1b894b78",
   "metadata": {
    "tags": []
   },
   "source": [
    "# Fill With SimpleImputer"
   ]
  },
  {
   "cell_type": "code",
   "execution_count": 38,
   "id": "4952d4be",
   "metadata": {},
   "outputs": [],
   "source": [
    "import pandas as pd\n",
    "from sklearn.impute import SimpleImputer\n",
    "import numpy as np\n",
    "'''\n",
    "impute.SimpleImputer(missing_values=nan.zero.or any value you want,\n",
    "                    strategy='mean','median','most_frequent',)\n",
    "'''\n",
    "\n",
    "data=pd.read_excel(r\"\")#my data\n",
    "\n",
    "ImputedModule = SimpleImputer(missing_values = np.nan, strategy ='mean')#object from class\n",
    "\n",
    "Imputeddata = ImputedModule.fit(data)\n",
    "data = Imputeddata.transform(data)\n",
    "\n",
    "\n",
    "data=pd.DataFrame(data) # covirt data into data frame to show it and save it \n",
    "\n",
    "# data.to_excel(\"output.xlsx\") #to save data after clean it"
   ]
  }
 ],
 "metadata": {
  "kernelspec": {
   "display_name": "Python 3 (ipykernel)",
   "language": "python",
   "name": "python3"
  },
  "language_info": {
   "codemirror_mode": {
    "name": "ipython",
    "version": 3
   },
   "file_extension": ".py",
   "mimetype": "text/x-python",
   "name": "python",
   "nbconvert_exporter": "python",
   "pygments_lexer": "ipython3",
   "version": "3.11.0"
  },
  "widgets": {
   "application/vnd.jupyter.widget-state+json": {
    "state": {},
    "version_major": 2,
    "version_minor": 0
   }
  }
 },
 "nbformat": 4,
 "nbformat_minor": 5
}
