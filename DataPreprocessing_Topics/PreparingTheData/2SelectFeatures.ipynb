{
 "cells": [
  {
   "cell_type": "markdown",
   "id": "b0876e85-0e24-4d63-88c0-c197b138c261",
   "metadata": {},
   "source": [
    "# SelectPer"
   ]
  },
  {
   "cell_type": "code",
   "execution_count": 9,
   "id": "79adadad",
   "metadata": {
    "tags": []
   },
   "outputs": [
    {
     "name": "stdout",
     "output_type": "stream",
     "text": [
      "X shape is  (569, 30)\n",
      "y shape is  (569,)\n",
      "y Columns are \n",
      " ['malignant' 'benign']\n",
      "X Shape is  (569, 9)\n",
      "Selected Features are :  [ True False  True  True False False  True  True False False False False\n",
      " False False False False False False False False  True False  True  True\n",
      " False False False  True False False]\n"
     ]
    }
   ],
   "source": [
    "#Import Libraries\n",
    "from sklearn.datasets import load_breast_cancer\n",
    "from sklearn.feature_selection import SelectPercentile\n",
    "from sklearn.feature_selection import chi2 , f_classif \n",
    "#----------------------------------------------------\n",
    "\n",
    "#load breast cancer data\n",
    "\n",
    "BreastData = load_breast_cancer()\n",
    "\n",
    "#X Data\n",
    "X = BreastData.data\n",
    "print('X shape is ' , X.shape)\n",
    "# print('X Features are \\n' , BreastData.feature_names)\n",
    "\n",
    "#y Data\n",
    "y = BreastData.target\n",
    "print('y shape is ' , y.shape)\n",
    "print('y Columns are \\n' , BreastData.target_names)\n",
    "\n",
    "#----------------------------------------------------\n",
    "#Feature Selection by Percentile\n",
    "#print('Original X Shape is ' , X.shape)\n",
    "FeatureSelection = SelectPercentile(score_func = f_classif, percentile=30) # score_func can = f_classif\n",
    "X = FeatureSelection.fit_transform(X, y)\n",
    "\n",
    "#showing X Dimension \n",
    "print('X Shape is ' , X.shape)\n",
    "print('Selected Features are : ' , FeatureSelection.get_support())\n"
   ]
  },
  {
   "cell_type": "markdown",
   "id": "c22bfdd3-3c99-4bdd-a3f1-702a4b1d2905",
   "metadata": {},
   "source": [
    "# KBest"
   ]
  },
  {
   "cell_type": "code",
   "execution_count": 10,
   "id": "f5d7a570",
   "metadata": {
    "tags": []
   },
   "outputs": [
    {
     "name": "stdout",
     "output_type": "stream",
     "text": [
      "(1797, 64)\n",
      "(1797, 20)\n"
     ]
    }
   ],
   "source": [
    "from sklearn.datasets import load_digits\n",
    "from sklearn.feature_selection import SelectKBest, chi2\n",
    "X, y = load_digits(return_X_y=True)\n",
    "print(X.shape)\n",
    "X_new = SelectKBest(chi2, k=20).fit_transform(X, y)\n",
    "\n",
    "print(X_new.shape)\n",
    "\n"
   ]
  },
  {
   "cell_type": "code",
   "execution_count": 11,
   "id": "cefb7d01",
   "metadata": {
    "tags": []
   },
   "outputs": [
    {
     "name": "stdout",
     "output_type": "stream",
     "text": [
      "(569, 8)\n",
      "[ True False  True False False False False  True False False False False\n",
      " False  True False False False False False False  True False  True  True\n",
      " False False False  True False False]\n"
     ]
    }
   ],
   "source": [
    "from sklearn.datasets import load_breast_cancer\n",
    "from sklearn.ensemble import RandomForestClassifier\n",
    "from sklearn.feature_selection import SelectFromModel\n",
    "data = load_breast_cancer()\n",
    "X = data.data\n",
    "y = data.target\n",
    "\n",
    "\n",
    "sel = SelectFromModel(RandomForestClassifier(n_estimators = 20)) \n",
    "sel.fit(X,y)\n",
    "selected_features = sel.transform(X)#after selected features\n",
    "print(selected_features.shape)\n",
    "print(sel.get_support())\n"
   ]
  }
 ],
 "metadata": {
  "kernelspec": {
   "display_name": "Python 3 (ipykernel)",
   "language": "python",
   "name": "python3"
  },
  "language_info": {
   "codemirror_mode": {
    "name": "ipython",
    "version": 3
   },
   "file_extension": ".py",
   "mimetype": "text/x-python",
   "name": "python",
   "nbconvert_exporter": "python",
   "pygments_lexer": "ipython3",
   "version": "3.11.0"
  },
  "widgets": {
   "application/vnd.jupyter.widget-state+json": {
    "state": {},
    "version_major": 2,
    "version_minor": 0
   }
  }
 },
 "nbformat": 4,
 "nbformat_minor": 5
}
