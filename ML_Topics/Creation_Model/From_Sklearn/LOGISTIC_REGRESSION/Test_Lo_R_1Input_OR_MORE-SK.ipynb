{
 "cells": [
  {
   "cell_type": "markdown",
   "id": "0cea4691",
   "metadata": {},
   "source": [
    "# Packages"
   ]
  },
  {
   "cell_type": "code",
   "execution_count": 6,
   "id": "490bc646",
   "metadata": {},
   "outputs": [],
   "source": [
    "#Import Libraries\n",
    "from sklearn.datasets import load_breast_cancer\n",
    "from sklearn.model_selection import train_test_split\n",
    "from sklearn.linear_model import LogisticRegression\n",
    "import seaborn as sns\n",
    "import matplotlib.pyplot as plt\n",
    "##ACCURACY##\n",
    "from sklearn.metrics import confusion_matrix\n",
    "import seaborn as sns\n",
    "import matplotlib.pyplot as plt\n",
    "from sklearn.metrics import accuracy_score\n",
    "from sklearn.metrics import f1_score\n",
    "from sklearn.metrics import recall_score\n",
    "from sklearn.metrics import precision_score\n",
    "from sklearn.metrics import precision_recall_fscore_support\n",
    "from sklearn.metrics import precision_recall_curve\n",
    "from sklearn.metrics import classification_report\n",
    "from sklearn.metrics import roc_curve\n",
    "from sklearn.metrics import auc\n",
    "from sklearn.metrics import roc_auc_score\n",
    "from sklearn.metrics import zero_one_loss"
   ]
  },
  {
   "cell_type": "markdown",
   "id": "f8891401",
   "metadata": {},
   "source": [
    "# DEFINE Data"
   ]
  },
  {
   "cell_type": "code",
   "execution_count": 7,
   "id": "18d45e9f",
   "metadata": {},
   "outputs": [],
   "source": [
    "#load breast cancer data\n",
    "\n",
    "BreastData = load_breast_cancer()\n",
    "\n",
    "#X Data\n",
    "X = BreastData.data\n",
    "#y Data\n",
    "y = BreastData.target\n",
    "\n",
    "#----------------------------------------------------\n",
    "#Splitting data\n",
    "\n",
    "X_train, X_test, y_train, y_test = train_test_split(X, y, test_size=0.30, random_state=44, shuffle =True)"
   ]
  },
  {
   "cell_type": "markdown",
   "id": "ec3bebed",
   "metadata": {},
   "source": [
    "# CREATE A MODEL OF PREDECTION"
   ]
  },
  {
   "cell_type": "code",
   "execution_count": 17,
   "id": "726a6f1f",
   "metadata": {},
   "outputs": [
    {
     "name": "stdout",
     "output_type": "stream",
     "text": [
      "LogisticRegressionModel Test Score is : 95.91 %\n",
      "LogisticRegressionModel Classes are :  [0 1]\n",
      "LogisticRegressionModel No. of iteratios is :  [1000]\n",
      "----------------------------------------------------\n",
      "Predicted Value for LogisticRegressionModel is : \n",
      " [0 0 1 0 1 1 1 1 0 1]\n",
      "Prediction Probabilities Value for LogisticRegressionModel is : \n",
      " [[9.83699289e-01 1.63007114e-02]\n",
      " [9.99824174e-01 1.75825848e-04]\n",
      " [6.77293018e-02 9.32270698e-01]\n",
      " [9.99999937e-01 6.33247238e-08]\n",
      " [3.10861456e-01 6.89138544e-01]\n",
      " [3.19021269e-01 6.80978731e-01]\n",
      " [4.95929907e-02 9.50407009e-01]\n",
      " [3.39821561e-01 6.60178439e-01]\n",
      " [9.51830142e-01 4.81698584e-02]\n",
      " [3.24404841e-02 9.67559516e-01]]\n"
     ]
    },
    {
     "name": "stderr",
     "output_type": "stream",
     "text": [
      "C:\\Users\\MoHaMeD\\AppData\\Local\\Programs\\Python\\Python311\\Lib\\site-packages\\sklearn\\linear_model\\_sag.py:350: ConvergenceWarning: The max_iter was reached which means the coef_ did not converge\n",
      "  warnings.warn(\n"
     ]
    }
   ],
   "source": [
    "#Applying LogisticRegression Model \n",
    "\n",
    "'''\n",
    "#linear_model.LogisticRegression(penalty='l2’,dual=False,tol=0.0001,C=1.0,fit_intercept=True,intercept_scaling=1,\n",
    "#                                class_weight=None,random_state=None,solver='warn’,max_iter=100,\n",
    "#                                multi_class='warn’, verbose=0,warm_start=False, n_jobs=None)\n",
    "             ==\n",
    "linear_model.LogisticRegression(random_state=0 )\n",
    "'''\n",
    "\n",
    "My_Model = LogisticRegression(penalty='l2',solver='sag',C=1.0,random_state=33,max_iter=1000)\n",
    "My_Model.fit(X_train, y_train)\n",
    "\n",
    "#Calculating Details\n",
    "print(f'LogisticRegressionModel Test Score is : {round((My_Model.score(X_test, y_test)*100),2)} %')\n",
    "print('LogisticRegressionModel Classes are : ' , My_Model.classes_)\n",
    "print('LogisticRegressionModel No. of iteratios is : ' , My_Model.n_iter_)\n",
    "print('----------------------------------------------------')\n",
    "\n",
    "#Calculating Prediction\n",
    "y_pred = My_Model.predict(X_test)\n",
    "\n",
    "\n",
    "y_pred_prob = My_Model.predict_proba(X_test)\n",
    "\n",
    "print('Predicted Value for LogisticRegressionModel is : \\n' , y_pred[:10])\n",
    "print('Prediction Probabilities Value for LogisticRegressionModel is : \\n' , y_pred_prob[:10])"
   ]
  },
  {
   "cell_type": "markdown",
   "id": "eeac906a",
   "metadata": {},
   "source": [
    "# SCORE OF ERROR"
   ]
  },
  {
   "cell_type": "code",
   "execution_count": 9,
   "id": "424fa0f7",
   "metadata": {},
   "outputs": [
    {
     "name": "stdout",
     "output_type": "stream",
     "text": [
      "Zero One Loss Value :  8\n",
      "--------------------------11--------------------------\n",
      "Confusion Matrix is : \n",
      " [[ 63   5]\n",
      " [  3 117]]\n"
     ]
    },
    {
     "data": {
      "image/png": "[encoded data removed]",
      "text/plain": [
       "<Figure size 640x480 with 2 Axes>"
      ]
     },
     "metadata": {},
     "output_type": "display_data"
    },
    {
     "name": "stdout",
     "output_type": "stream",
     "text": [
      "--------------------------1--------------------------\n",
      "Accuracy Score is :  180\n",
      "--------------------------2--------------------------\n",
      "F1 Score is :  0.9574468085106385\n",
      "--------------------------3--------------------------\n",
      "Recall Score is :  0.9574468085106383\n",
      "--------------------------4--------------------------\n",
      "Precision Score is :  0.9574468085106383\n",
      "--------------------------5--------------------------\n",
      "Precision Recall Score is :  (0.9574468085106383, 0.9574468085106383, 0.9574468085106385, None)\n",
      "--------------------------6--------------------------\n",
      "Precision Value is :  [0.63829787 0.95901639 1.        ]\n",
      "Recall Value is :  [1.    0.975 0.   ]\n",
      "Thresholds Value is :  [0 1]\n",
      "--------------------------7--------------------------\n",
      "Classification Report is :                precision    recall  f1-score   support\n",
      "\n",
      "           0       0.95      0.93      0.94        68\n",
      "           1       0.96      0.97      0.97       120\n",
      "\n",
      "    accuracy                           0.96       188\n",
      "   macro avg       0.96      0.95      0.95       188\n",
      "weighted avg       0.96      0.96      0.96       188\n",
      "\n",
      "--------------------------8--------------------------\n",
      "AUC Value  :  0.9507352941176471\n",
      "--------------------------9--------------------------\n",
      "fpr Value  :  [0.         0.07352941 1.        ]\n",
      "tpr Value  :  [0.    0.975 1.   ]\n",
      "thresholds Value  :  [2 1 0]\n",
      "--------------------------10--------------------------\n",
      "ROCAUC Score :  0.9507352941176471\n"
     ]
    }
   ],
   "source": [
    "#Calculating Zero One Loss:  \n",
    "#zero_one_loss(y_true, y_pred, normalize = True, sample_weight = None)   \n",
    "ZeroOneLossValue = zero_one_loss(y_test,y_pred,normalize=False) \n",
    "print('Zero One Loss Value : ', ZeroOneLossValue )\n",
    "\n",
    "print(\"--------------------------11--------------------------\")\n",
    "\n",
    "#Calculating Confusion Matrix\n",
    "CM = confusion_matrix(y_test, y_pred)\n",
    "print('Confusion Matrix is : \\n', CM)\n",
    "\n",
    "# drawing confusion matrix\n",
    "sns.heatmap(CM, center = True)\n",
    "plt.show()\n",
    "\n",
    "print(\"--------------------------1--------------------------\")\n",
    "#Calculating Accuracy Score  : ((TP + TN) / float(TP + TN + FP + FN))\n",
    "AccScore = accuracy_score(y_test, y_pred, normalize=False)\n",
    "print('Accuracy Score is : ', AccScore)\n",
    "\n",
    "print(\"--------------------------2--------------------------\")\n",
    "#Calculating F1 Score  : 2 * (precision * recall) / (precision + recall)\n",
    "# f1_score(y_true, y_pred, labels=None, pos_label=1, average=’binary’, sample_weight=None)\n",
    "\n",
    "F1Score = f1_score(y_test, y_pred, average='micro') #it can be : binary,macro,weighted,samples\n",
    "print('F1 Score is : ', F1Score)\n",
    "\n",
    "print(\"--------------------------3--------------------------\")\n",
    "#Calculating Recall Score : (Sensitivity) (TP / float(TP + FN))   1 / 1+2  \n",
    "# recall_score(y_true, y_pred, labels=None, pos_label=1, average=’binary’, sample_weight=None)\n",
    "\n",
    "RecallScore = recall_score(y_test, y_pred, average='micro') #it can be : binary,macro,weighted,samples\n",
    "print('Recall Score is : ', RecallScore)\n",
    "\n",
    "print(\"--------------------------4--------------------------\")\n",
    "\n",
    "#Calculating Precision Score : (Specificity) #(TP / float(TP + FP))  \n",
    "# precision_score(y_true, y_pred, labels=None, pos_label=1, average=’binary’,sample_weight=None)\n",
    "\n",
    "PrecisionScore = precision_score(y_test, y_pred, average='micro') #it can be : binary,macro,weighted,samples\n",
    "print('Precision Score is : ', PrecisionScore)\n",
    "\n",
    "print(\"--------------------------5--------------------------\")\n",
    "#Calculating Precision recall Score :  \n",
    "#metrics.precision_recall_fscore_support(y_true, y_pred, beta=1.0, labels=None, pos_label=1, average=\n",
    "#                                        None, warn_for = ('precision’,’recall’, ’f-score’), sample_weight=None)\n",
    "\n",
    "PrecisionRecallScore = precision_recall_fscore_support(y_test, y_pred, average='micro') #it can be : binary,macro,weighted,samples\n",
    "print('Precision Recall Score is : ', PrecisionRecallScore)\n",
    "\n",
    "print(\"--------------------------6--------------------------\")\n",
    "#Calculating Precision recall Curve :  \n",
    "# precision_recall_curve(y_true, probas_pred, pos_label=None, sample_weight=None)\n",
    "\n",
    "PrecisionValue, RecallValue, ThresholdsValue = precision_recall_curve(y_test,y_pred)\n",
    "print('Precision Value is : ', PrecisionValue)\n",
    "print('Recall Value is : ', RecallValue)\n",
    "print('Thresholds Value is : ', ThresholdsValue)\n",
    "\n",
    "print(\"--------------------------7--------------------------\")\n",
    "#Calculating classification Report :  \n",
    "#classification_report(y_true, y_pred, labels=None, target_names=None,sample_weight=None, digits=2, output_dict=False)\n",
    "\n",
    "ClassificationReport = classification_report(y_test,y_pred)\n",
    "print('Classification Report is : ', ClassificationReport )\n",
    "\n",
    "print(\"--------------------------8--------------------------\")\n",
    "\n",
    "#Calculating Area Under the Curve :  \n",
    "\n",
    "fprValue2, tprValue2, thresholdsValue2 = roc_curve(y_test,y_pred)\n",
    "AUCValue = auc(fprValue2, tprValue2)\n",
    "print('AUC Value  : ', AUCValue)\n",
    "\n",
    "print(\"--------------------------9--------------------------\")\n",
    "#Calculating Receiver Operating Characteristic :  \n",
    "#roc_curve(y_true, y_score, pos_label=None, sample_weight=None,drop_intermediate=True)\n",
    "\n",
    "fprValue, tprValue, thresholdsValue = roc_curve(y_test,y_pred)\n",
    "print('fpr Value  : ', fprValue)\n",
    "print('tpr Value  : ', tprValue)\n",
    "print('thresholds Value  : ', thresholdsValue)\n",
    "\n",
    "print(\"--------------------------10--------------------------\")\n",
    "#Calculating ROC AUC Score:  \n",
    "#roc_auc_score(y_true, y_score, average=’macro’, sample_weight=None,max_fpr=None)\n",
    "\n",
    "ROCAUCScore = roc_auc_score(y_test,y_pred, average='micro') #it can be : macro,weighted,samples\n",
    "print('ROCAUC Score : ', ROCAUCScore)\n",
    "\n"
   ]
  },
  {
   "cell_type": "code",
   "execution_count": null,
   "id": "8b6c3ebc",
   "metadata": {},
   "outputs": [],
   "source": []
  }
 ],
 "metadata": {
  "kernelspec": {
   "display_name": "Python 3 (ipykernel)",
   "language": "python",
   "name": "python3"
  },
  "language_info": {
   "codemirror_mode": {
    "name": "ipython",
    "version": 3
   },
   "file_extension": ".py",
   "mimetype": "text/x-python",
   "name": "python",
   "nbconvert_exporter": "python",
   "pygments_lexer": "ipython3",
   "version": "3.11.0"
  }
 },
 "nbformat": 4,
 "nbformat_minor": 5
}
