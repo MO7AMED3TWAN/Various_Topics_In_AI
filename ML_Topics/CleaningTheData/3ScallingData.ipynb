{
 "cells": [
  {
   "cell_type": "markdown",
   "id": "18859499",
   "metadata": {},
   "source": [
    "## StandardScaler"
   ]
  },
  {
   "cell_type": "code",
   "execution_count": null,
   "id": "cc28ebd2",
   "metadata": {
    "tags": []
   },
   "outputs": [],
   "source": [
    "from sklearn.preprocessing import StandardScaler\n",
    "import pandas as pd\n",
    "#### READ & IDENTIFY DATA ####\n",
    "path = r\"\"\n",
    "data = pd.read_csv(path, header=None, names=[\"x\", \"y\"])\n",
    "X=data[[\"x\"]]   # X is the input\n",
    "y=data[[\"y\"]]   # y is the output\n",
    "f_data = X\n",
    "t_data = y\n",
    "scaler = StandardScaler()\n",
    "\n",
    "f_data1 = scaler.fit_transform(f_data) \n",
    "print(\"X\",f_data1)\n",
    "t_data1 = scaler.fit_transform(t_data) \n",
    "print(\"y\",t_data1)\n",
    "\n"
   ]
  },
  {
   "cell_type": "markdown",
   "id": "3b459dc1",
   "metadata": {},
   "source": [
    "## MinMaxScaler"
   ]
  },
  {
   "cell_type": "code",
   "execution_count": null,
   "id": "25d5185c",
   "metadata": {},
   "outputs": [],
   "source": [
    "from sklearn.preprocessing import MinMaxScaler\n",
    "data = [[-1, 2], [-0.5, 6], [0, 10], [1, 18]]\n",
    "scaler = MinMaxScaler() ## MinMaxScaler(copy=True, feature_range=(0, 1))\n",
    "scaler.fit(data)\n",
    "newdata = scaler.fit_transform(data)\n",
    "\n",
    "print(newdata)\n",
    "\n",
    "### some of attributes\n",
    "print(\"range\",scaler.data_range_)\n",
    "print(\"min\",scaler.data_min_)\n",
    "print(\"max\",scaler.data_max_)\n",
    "### some of attributes"
   ]
  },
  {
   "cell_type": "markdown",
   "id": "1441650b",
   "metadata": {},
   "source": [
    "## Normalizer RAWS"
   ]
  },
  {
   "cell_type": "code",
   "execution_count": null,
   "id": "1ba4ee70",
   "metadata": {},
   "outputs": [],
   "source": [
    "from sklearn.preprocessing import Normalizer\n",
    "X = [[4, 1, 2, 2], \n",
    "     [1, 3, 9, 3], \n",
    "     [5, 7, 5, 1]]\n",
    "\n",
    "\n",
    "transformer1 = Normalizer(norm='l1' )\n",
    "\n",
    "transformer2 = Normalizer(norm='l2' )\n",
    "\n",
    "transformer3 = Normalizer(norm='max' )\n",
    "\n",
    "N1=transformer1.fit_transform(X)\n",
    "N2=transformer2.fit_transform(X)\n",
    "N3=transformer3.fit_transform(X)\n",
    "\n",
    "\n",
    "print(\"N1\\n\",N1)\n",
    "print(\"N2\\n\",N2)\n",
    "print(\"N3\\n\",N3)"
   ]
  },
  {
   "cell_type": "markdown",
   "id": "82cc643a",
   "metadata": {},
   "source": [
    "## MaxAbsScaler COLUMNS"
   ]
  },
  {
   "cell_type": "code",
   "execution_count": null,
   "id": "6446eef6",
   "metadata": {
    "tags": []
   },
   "outputs": [],
   "source": [
    "## similar of normalizer(max) but in column\n",
    "from sklearn.preprocessing import MaxAbsScaler\n",
    "X = [[ 1., 10., 2.],\n",
    "     [ 2., 0., 0.],\n",
    "     [ 5., 1., -1.]]\n",
    "transformer = MaxAbsScaler().fit_transform(X)\n",
    "print(\"transformer : \\n\",transformer)"
   ]
  },
  {
   "cell_type": "markdown",
   "id": "02ca2220",
   "metadata": {},
   "source": [
    "## FunctionTransformer"
   ]
  },
  {
   "cell_type": "code",
   "execution_count": null,
   "id": "3958dc79",
   "metadata": {
    "tags": []
   },
   "outputs": [],
   "source": [
    "import numpy as np\n",
    "from sklearn.preprocessing import FunctionTransformer\n",
    "\n",
    "X = [[4, 1, 2, 2], [1, 3, 9, 3], [5, 7, 5, 1]]\n",
    "\n",
    "def function1(z):\n",
    "    return np.divide(z,1000)\n",
    "\n",
    "FT = FunctionTransformer(func = function1)\n",
    "\n",
    "print(\"out\\n\",FT.fit_transform(X))"
   ]
  },
  {
   "cell_type": "markdown",
   "id": "89f3f3e0",
   "metadata": {},
   "source": [
    "## Binarizer"
   ]
  },
  {
   "cell_type": "code",
   "execution_count": null,
   "id": "248771df",
   "metadata": {},
   "outputs": [],
   "source": [
    "#بيحول القيم كلها ال اقل من الرقم ال انت مديه له لصفر والاكبر منه لواحد \n",
    "from sklearn.preprocessing import Binarizer\n",
    "X = [[ 1., -1., -2.],\n",
    "      [ 2., 0., -1.], \n",
    "      [ 0., 1., -1.]]\n",
    "\n",
    "transformer = Binarizer(threshold=0.5 ) \n",
    "transformer1 = transformer.fit_transform(X)\n",
    "print(\"transformer : \\n\",transformer1)"
   ]
  },
  {
   "cell_type": "markdown",
   "id": "6c36617d",
   "metadata": {},
   "source": [
    "## PolynomialFeatures"
   ]
  },
  {
   "cell_type": "code",
   "execution_count": null,
   "id": "0e8b0846",
   "metadata": {
    "tags": []
   },
   "outputs": [],
   "source": [
    "import numpy as np\n",
    "from sklearn.preprocessing import PolynomialFeatures\n",
    "X = np.arange(6).reshape(3, 2)\n",
    "print(\"Original \\n\",X)\n",
    "poly = PolynomialFeatures(degree=2 , include_bias = True)\n",
    "\n",
    "print(\"\\ninteraction_only=False\\n\",poly.fit_transform(X))\n",
    "\n",
    "\n",
    "poly = PolynomialFeatures(interaction_only=True)#here only add columns bais and first*second\n",
    "\n",
    "print(\"\\ninteraction_only=True\\n\",poly.fit_transform(X))"
   ]
  }
 ],
 "metadata": {
  "kernelspec": {
   "display_name": "Python 3 (ipykernel)",
   "language": "python",
   "name": "python3"
  },
  "language_info": {
   "codemirror_mode": {
    "name": "ipython",
    "version": 3
   },
   "file_extension": ".py",
   "mimetype": "text/x-python",
   "name": "python",
   "nbconvert_exporter": "python",
   "pygments_lexer": "ipython3",
   "version": "3.11.0"
  },
  "widgets": {
   "application/vnd.jupyter.widget-state+json": {
    "state": {},
    "version_major": 2,
    "version_minor": 0
   }
  }
 },
 "nbformat": 4,
 "nbformat_minor": 5
}
