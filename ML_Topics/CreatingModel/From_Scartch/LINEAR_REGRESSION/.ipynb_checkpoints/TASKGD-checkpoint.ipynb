{
 "cells": [
  {
   "cell_type": "code",
   "execution_count": 2,
   "id": "15000f17",
   "metadata": {},
   "outputs": [],
   "source": [
    "#استدعاء المكتبات \n",
    "\n",
    "import pandas as pd #مكتبة التعامل مع الداتا\n",
    "import numpy as np  #مكتبة التعامل مع المصفوفات"
   ]
  },
  {
   "cell_type": "code",
   "execution_count": 3,
   "id": "793de629",
   "metadata": {},
   "outputs": [],
   "source": [
    "path=r\"\"\n",
    "data=pd.read_csv(path)"
   ]
  },
  {
   "cell_type": "code",
   "execution_count": 4,
   "id": "85e7b956",
   "metadata": {},
   "outputs": [],
   "source": [
    "#### define features and target ####\n",
    "\n",
    "#adding a new column called ones before the data\n",
    "data.insert(0, 'Ones', 1)# add it because when multiply X{1,1; 1,2; 1,3} in Theta{5,10} product is[5+1*10];[5+2*10];[5+3*10]\n",
    "\n",
    "X=data.iloc[:,:-1]  # X is the input\n",
    "y=data.iloc[:,-1]  # y is the output\n",
    "\n",
    "##convert from data frames to numpy matrices\n",
    "X = np.matrix(X.values)\n",
    "y = (np.matrix(y.values)).T\n",
    "\n",
    "\n",
    "shape = (len(data.axes[1]))  -1\n",
    "theta = np.matrix(np.ones(shape))\n",
    "\n",
    "data.columns=['ones','X','Y']"
   ]
  },
  {
   "cell_type": "code",
   "execution_count": 6,
   "id": "ee2a1dbe",
   "metadata": {
    "collapsed": true
   },
   "outputs": [
    {
     "data": {
      "text/html": [
       "<div>\n",
       "<style scoped>\n",
       "    .dataframe tbody tr th:only-of-type {\n",
       "        vertical-align: middle;\n",
       "    }\n",
       "\n",
       "    .dataframe tbody tr th {\n",
       "        vertical-align: top;\n",
       "    }\n",
       "\n",
       "    .dataframe thead th {\n",
       "        text-align: right;\n",
       "    }\n",
       "</style>\n",
       "<table border=\"1\" class=\"dataframe\">\n",
       "  <thead>\n",
       "    <tr style=\"text-align: right;\">\n",
       "      <th></th>\n",
       "      <th>ones</th>\n",
       "      <th>X</th>\n",
       "      <th>Y</th>\n",
       "    </tr>\n",
       "  </thead>\n",
       "  <tbody>\n",
       "    <tr>\n",
       "      <th>0</th>\n",
       "      <td>1</td>\n",
       "      <td>10.9570</td>\n",
       "      <td>7.0467</td>\n",
       "    </tr>\n",
       "    <tr>\n",
       "      <th>1</th>\n",
       "      <td>1</td>\n",
       "      <td>13.1760</td>\n",
       "      <td>14.6920</td>\n",
       "    </tr>\n",
       "    <tr>\n",
       "      <th>2</th>\n",
       "      <td>1</td>\n",
       "      <td>22.2030</td>\n",
       "      <td>24.1470</td>\n",
       "    </tr>\n",
       "    <tr>\n",
       "      <th>3</th>\n",
       "      <td>1</td>\n",
       "      <td>5.2524</td>\n",
       "      <td>-1.2200</td>\n",
       "    </tr>\n",
       "    <tr>\n",
       "      <th>4</th>\n",
       "      <td>1</td>\n",
       "      <td>6.5894</td>\n",
       "      <td>5.9966</td>\n",
       "    </tr>\n",
       "  </tbody>\n",
       "</table>\n",
       "</div>"
      ],
      "text/plain": [
       "   ones        X        Y\n",
       "0     1  10.9570   7.0467\n",
       "1     1  13.1760  14.6920\n",
       "2     1  22.2030  24.1470\n",
       "3     1   5.2524  -1.2200\n",
       "4     1   6.5894   5.9966"
      ]
     },
     "execution_count": 6,
     "metadata": {},
     "output_type": "execute_result"
    }
   ],
   "source": [
    "data.head()"
   ]
  },
  {
   "cell_type": "code",
   "execution_count": 7,
   "id": "d9c2108a",
   "metadata": {},
   "outputs": [
    {
     "name": "stdout",
     "output_type": "stream",
     "text": [
      "COST VALUE =  11.662\n"
     ]
    }
   ],
   "source": [
    "#### COST FUNCTION ####\n",
    "def computeCost(X, y, theta):\n",
    "    f_x=np.dot(X, theta.T)\n",
    "    summation=np.sum(   np.power ( ((f_x) -y ),2 )   ) \n",
    "    m=len(X)\n",
    "    return summation / (2 * m)\n",
    "\n",
    "print('COST VALUE = ' , round(computeCost(X, y, theta),3))\n"
   ]
  },
  {
   "cell_type": "code",
   "execution_count": 8,
   "id": "a15b30ae",
   "metadata": {},
   "outputs": [
    {
     "name": "stdout",
     "output_type": "stream",
     "text": [
      "NEW THETA =  [[-4.80402586  1.18420621]]\n",
      "Final Cost =  2.2296\n"
     ]
    }
   ],
   "source": [
    "#### GRADIEN DESCENT ####\n",
    "def gradientDescent(X, y, theta, alpha, iters):\n",
    "    New_Theta   = np.matrix(np.zeros(theta.shape))# same shape of my Theta matrix\n",
    "    parameters  = int(theta.ravel().shape[1])#\n",
    "    costs       = np.zeros(iters) \n",
    "    m           = len(X)\n",
    "    for i in range(iters):\n",
    "        f_x=np.dot(X, theta.T)\n",
    "        \n",
    "        error = (f_x) - y\n",
    "        \n",
    "        for j in range(parameters):\n",
    "            term = np.multiply(error, X[:,j])\n",
    "            New_Theta[0,j] = theta[0,j] - ((alpha / m) * np.sum(term))\n",
    "            \n",
    "        theta    = New_Theta\n",
    "        costs[i] = computeCost(X, y, theta)\n",
    "        \n",
    "    return theta, costs\n",
    "# initialize variables for learning rate and iterations\n",
    "alpha = 0.001\n",
    "iters = 60000\n",
    "\n",
    "# perform gradient descent to \"fit\" the model parameters\n",
    "New_theta, costs = gradientDescent(X, y, theta, alpha, iters)\n",
    "\n",
    "print('NEW THETA = ' , New_theta) # final theta\n",
    "\n",
    "print('Final Cost = ' , round(computeCost(X, y, New_theta) , 4)) # final cost\n"
   ]
  },
  {
   "cell_type": "code",
   "execution_count": null,
   "id": "7f22a815",
   "metadata": {},
   "outputs": [],
   "source": []
  }
 ],
 "metadata": {
  "kernelspec": {
   "display_name": "Python 3 (ipykernel)",
   "language": "python",
   "name": "python3"
  },
  "language_info": {
   "codemirror_mode": {
    "name": "ipython",
    "version": 3
   },
   "file_extension": ".py",
   "mimetype": "text/x-python",
   "name": "python",
   "nbconvert_exporter": "python",
   "pygments_lexer": "ipython3",
   "version": "3.10.8"
  }
 },
 "nbformat": 4,
 "nbformat_minor": 5
}
