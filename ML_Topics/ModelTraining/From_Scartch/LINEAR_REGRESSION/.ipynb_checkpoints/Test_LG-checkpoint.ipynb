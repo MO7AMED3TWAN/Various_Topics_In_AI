{
 "cells": [
  {
   "cell_type": "code",
   "execution_count": 40,
   "id": "76f782a9",
   "metadata": {
    "id": "76f782a9"
   },
   "outputs": [],
   "source": [
    "#### IMPORTING LIBRARIES ####\n",
    "import numpy as np\n",
    "import pandas as pd\n",
    "import matplotlib.pyplot as plt\n",
    "from sklearn.model_selection import train_test_split\n",
    "from sklearn.linear_model import LinearRegression"
   ]
  },
  {
   "cell_type": "code",
   "execution_count": 33,
   "id": "c8de6cb2",
   "metadata": {},
   "outputs": [],
   "source": [
    "#### READ DATA ####\n",
    "path = r\"C:\\Users\\MoHaMeD\\Desktop\\test.csv \"\n",
    "data = pd.read_csv(path)\n"
   ]
  },
  {
   "cell_type": "code",
   "execution_count": null,
   "id": "02f1aa8c",
   "metadata": {},
   "outputs": [],
   "source": []
  },
  {
   "cell_type": "code",
   "execution_count": null,
   "id": "0910f6d7",
   "metadata": {},
   "outputs": [],
   "source": []
  },
  {
   "cell_type": "code",
   "execution_count": 30,
   "id": "2844fc11",
   "metadata": {},
   "outputs": [],
   "source": [
    "#### clean the data ####\n",
    "\n",
    "from sklearn.impute import SimpleImputer\n",
    "'''\n",
    "impute.SimpleImputer(missing_values=nan.zero.or any value you want,\n",
    "                    strategy='mean','median','most_frequent',)\n",
    "'''\n",
    "\n",
    "ImputedModule = SimpleImputer(missing_values = np.nan, strategy ='median')#object from class\n",
    "\n",
    "Imputeddata = ImputedModule.fit(data)\n",
    "data = Imputeddata.transform(data)\n",
    "\n",
    "\n",
    "data=pd.DataFrame(data) # convert data into data frame to show it and save it "
   ]
  },
  {
   "cell_type": "code",
   "execution_count": 31,
   "id": "8705342e",
   "metadata": {
    "id": "8705342e"
   },
   "outputs": [],
   "source": [
    "#### define features and target ####\n",
    "\n",
    "#adding a new column called ones before the data\n",
    "# data.insert(0, 'Ones', 1)\n",
    "\n",
    "X=data.iloc[:,:-1]  # X is the input\n",
    "y=data.iloc[:,-1]  # y is the output\n",
    "\n",
    "##convert from data frames to numpy matrices\n",
    "X = np.matrix(X.values)\n",
    "y = (np.matrix(y.values)).T\n",
    "shape = (len(data.axes[1]))  -1\n",
    "theta = np.matrix(np.zeros(shape))\n"
   ]
  },
  {
   "cell_type": "code",
   "execution_count": 32,
   "id": "65da641d",
   "metadata": {},
   "outputs": [
    {
     "name": "stdout",
     "output_type": "stream",
     "text": [
      "<class 'pandas.core.frame.DataFrame'>\n",
      "RangeIndex: 200 entries, 0 to 199\n",
      "Data columns (total 2 columns):\n",
      " #   Column  Non-Null Count  Dtype  \n",
      "---  ------  --------------  -----  \n",
      " 0   0       200 non-null    float64\n",
      " 1   1       200 non-null    float64\n",
      "dtypes: float64(2)\n",
      "memory usage: 3.2 KB\n"
     ]
    }
   ],
   "source": [
    "#### DATA SHOW ####\n",
    "# data.head()\n",
    "# data.describe()\n",
    "data.info()\n",
    "# data.plot(kind='scatter', x='x', y='y') #first method\n",
    "# plt.scatter(data['x'],data['y'],c='r') #second method"
   ]
  },
  {
   "cell_type": "code",
   "execution_count": 218,
   "id": "893ca3d2",
   "metadata": {
    "colab": {
     "base_uri": "https://localhost:8080/",
     "height": 385
    },
    "id": "893ca3d2",
    "outputId": "edb6a412-b9ca-4d6b-8ede-bc096eeecffe",
    "scrolled": true
   },
   "outputs": [
    {
     "name": "stdout",
     "output_type": "stream",
     "text": [
      "COST VALUE =  0.46\n"
     ]
    }
   ],
   "source": [
    "#### COST FUNCTION ####\n",
    "def computeCost(X, y, theta):\n",
    "    summation=np.sum( np.power( ( (np.dot(X, theta.T)) - y ), 2 ) )\n",
    "    m=len(X)\n",
    "    return summation / (2 * m)\n",
    "\n",
    "print('COST VALUE = ' , round(computeCost(X, y, theta),3))\n"
   ]
  },
  {
   "cell_type": "code",
   "execution_count": 39,
   "id": "d82230ab",
   "metadata": {
    "id": "d82230ab"
   },
   "outputs": [],
   "source": [
    "### SPLIT DATA ###\n",
    "#X_train,X_test,y_train,y_test=train_test_split(X,y,test_size=0.2,random_state=1)\n",
    "X_train,X_test,y_train,y_test =train_test_split(X,y,test_size=0.30)"
   ]
  },
  {
   "cell_type": "code",
   "execution_count": null,
   "id": "afc5075b",
   "metadata": {},
   "outputs": [],
   "source": []
  }
 ],
 "metadata": {
  "colab": {
   "provenance": []
  },
  "kernelspec": {
   "display_name": "Python 3 (ipykernel)",
   "language": "python",
   "name": "python3"
  },
  "language_info": {
   "codemirror_mode": {
    "name": "ipython",
    "version": 3
   },
   "file_extension": ".py",
   "mimetype": "text/x-python",
   "name": "python",
   "nbconvert_exporter": "python",
   "pygments_lexer": "ipython3",
   "version": "3.10.8"
  },
  "vscode": {
   "interpreter": {
    "hash": "0c3136af1c3cd84bf5255f4a09e2aa61169809d15abf9aeede9c0365cbba6c55"
   }
  }
 },
 "nbformat": 4,
 "nbformat_minor": 5
}
