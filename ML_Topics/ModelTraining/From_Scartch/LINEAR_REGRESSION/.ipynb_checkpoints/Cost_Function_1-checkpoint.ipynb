{
 "cells": [
  {
   "cell_type": "code",
   "execution_count": null,
   "id": "1523d0e3",
   "metadata": {},
   "outputs": [],
   "source": [
    "#### COST FUNCTION ####\n",
    "\n",
    "# ####adding a new column called ones before the data\n",
    "data.insert(0, 'Ones', 1)\n",
    "\n",
    "# ####3separate X (training data) from y (target variable)\n",
    "X = data.iloc[:,0:-1]\n",
    "y = data.iloc[:,-1]\n",
    "\n",
    "##convert from data frames to numpy matrices\n",
    "X = np.matrix(X.values)\n",
    "y = np.matrix(y.values)\n",
    "shape = (len(data.axes[1]))  \n",
    "theta = np.array(np.zeros(shape))\n",
    "##convert item data type from string to float\n",
    "# X = X.astype(float)\n",
    "# y = y.astype(float)\n",
    "\n",
    "def computeCost(X, y, theta):\n",
    "    z = np.power(((X * theta.np.tra) - y), 2)\n",
    "    summation=np.sum( np.power( ( (X * theta.T) - y ), 2 ) )\n",
    "    m=len(X)\n",
    "    return summation / (2 * m)\n",
    "\n",
    "print('computeCost(X, y, theta) = ' , computeCost(X, y, theta))\n"
   ]
  }
 ],
 "metadata": {
  "kernelspec": {
   "display_name": "Python 3 (ipykernel)",
   "language": "python",
   "name": "python3"
  },
  "language_info": {
   "codemirror_mode": {
    "name": "ipython",
    "version": 3
   },
   "file_extension": ".py",
   "mimetype": "text/x-python",
   "name": "python",
   "nbconvert_exporter": "python",
   "pygments_lexer": "ipython3",
   "version": "3.10.8"
  }
 },
 "nbformat": 4,
 "nbformat_minor": 5
}
