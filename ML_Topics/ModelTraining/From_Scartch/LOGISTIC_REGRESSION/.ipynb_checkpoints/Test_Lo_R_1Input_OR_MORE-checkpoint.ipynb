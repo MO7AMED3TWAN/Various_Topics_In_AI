{
 "cells": [
  {
   "cell_type": "markdown",
   "id": "d0f5ffab",
   "metadata": {},
   "source": [
    "# Packages"
   ]
  },
  {
   "cell_type": "code",
   "execution_count": 1,
   "id": "88e8bffa",
   "metadata": {},
   "outputs": [],
   "source": [
    "import numpy as np\n",
    "import pandas as pd\n",
    "import matplotlib.pyplot as plt\n",
    "import time"
   ]
  },
  {
   "cell_type": "markdown",
   "id": "3a4b2e29",
   "metadata": {},
   "source": [
    "# Define Data 1"
   ]
  },
  {
   "cell_type": "code",
   "execution_count": 14,
   "id": "6ac97600",
   "metadata": {},
   "outputs": [],
   "source": [
    "#### READ DATA ####\n",
    "path = 'txt1.txt'\n",
    "data = pd.read_csv(path, header=None, names=['Exam 1', 'Exam 2', 'Admitted'])"
   ]
  },
  {
   "cell_type": "code",
   "execution_count": 4,
   "id": "235183db",
   "metadata": {
    "scrolled": false
   },
   "outputs": [
    {
     "data": {
      "text/html": [
       "<div>\n",
       "<style scoped>\n",
       "    .dataframe tbody tr th:only-of-type {\n",
       "        vertical-align: middle;\n",
       "    }\n",
       "\n",
       "    .dataframe tbody tr th {\n",
       "        vertical-align: top;\n",
       "    }\n",
       "\n",
       "    .dataframe thead th {\n",
       "        text-align: right;\n",
       "    }\n",
       "</style>\n",
       "<table border=\"1\" class=\"dataframe\">\n",
       "  <thead>\n",
       "    <tr style=\"text-align: right;\">\n",
       "      <th></th>\n",
       "      <th>Exam 1</th>\n",
       "      <th>Exam 2</th>\n",
       "      <th>Admitted</th>\n",
       "    </tr>\n",
       "  </thead>\n",
       "  <tbody>\n",
       "    <tr>\n",
       "      <th>0</th>\n",
       "      <td>34.623660</td>\n",
       "      <td>78.024693</td>\n",
       "      <td>0</td>\n",
       "    </tr>\n",
       "    <tr>\n",
       "      <th>1</th>\n",
       "      <td>30.286711</td>\n",
       "      <td>43.894998</td>\n",
       "      <td>0</td>\n",
       "    </tr>\n",
       "    <tr>\n",
       "      <th>2</th>\n",
       "      <td>35.847409</td>\n",
       "      <td>72.902198</td>\n",
       "      <td>0</td>\n",
       "    </tr>\n",
       "    <tr>\n",
       "      <th>3</th>\n",
       "      <td>60.182599</td>\n",
       "      <td>86.308552</td>\n",
       "      <td>1</td>\n",
       "    </tr>\n",
       "    <tr>\n",
       "      <th>4</th>\n",
       "      <td>79.032736</td>\n",
       "      <td>75.344376</td>\n",
       "      <td>1</td>\n",
       "    </tr>\n",
       "  </tbody>\n",
       "</table>\n",
       "</div>"
      ],
      "text/plain": [
       "      Exam 1     Exam 2  Admitted\n",
       "0  34.623660  78.024693         0\n",
       "1  30.286711  43.894998         0\n",
       "2  35.847409  72.902198         0\n",
       "3  60.182599  86.308552         1\n",
       "4  79.032736  75.344376         1"
      ]
     },
     "execution_count": 4,
     "metadata": {},
     "output_type": "execute_result"
    }
   ],
   "source": [
    "data.head()"
   ]
  },
  {
   "cell_type": "code",
   "execution_count": 5,
   "id": "e0bd5d8c",
   "metadata": {},
   "outputs": [
    {
     "data": {
      "text/plain": [
       "Exam 1      0\n",
       "Exam 2      0\n",
       "Admitted    0\n",
       "dtype: int64"
      ]
     },
     "execution_count": 5,
     "metadata": {},
     "output_type": "execute_result"
    }
   ],
   "source": [
    "data.isnull().sum() ## Get Nulls in My Data"
   ]
  },
  {
   "cell_type": "markdown",
   "id": "792dd52f",
   "metadata": {},
   "source": [
    "# Classifier Data"
   ]
  },
  {
   "cell_type": "code",
   "execution_count": 6,
   "id": "4b76ecc4",
   "metadata": {},
   "outputs": [
    {
     "data": {
      "text/plain": [
       "1    60\n",
       "0    40\n",
       "Name: Admitted, dtype: int64"
      ]
     },
     "execution_count": 6,
     "metadata": {},
     "output_type": "execute_result"
    }
   ],
   "source": [
    "### GET COUNT OF THEM ###\n",
    "\n",
    "data['Admitted'].value_counts()"
   ]
  },
  {
   "cell_type": "code",
   "execution_count": 12,
   "id": "f97ba578",
   "metadata": {},
   "outputs": [],
   "source": [
    "positive = data[data['Admitted'].isin([1])]\n",
    "negative = data[data['Admitted'].isin([0])]"
   ]
  },
  {
   "cell_type": "code",
   "execution_count": 13,
   "id": "1ecc6ad8",
   "metadata": {},
   "outputs": [
    {
     "data": {
      "text/plain": [
       "Text(0, 0.5, 'Exam 2 Score')"
      ]
     },
     "execution_count": 13,
     "metadata": {},
     "output_type": "execute_result"
    },
    {
     "data": {
      "image/png": "[encoded data removed]",
      "text/plain": [
       "<Figure size 500x500 with 1 Axes>"
      ]
     },
     "metadata": {},
     "output_type": "display_data"
    }
   ],
   "source": [
    "fig, ax = plt.subplots(figsize=(5,5))\n",
    "ax.scatter(positive['Exam 1'], positive['Exam 2'], s=50, c='b', marker='o', label='Admitted')\n",
    "ax.scatter(negative['Exam 1'], negative['Exam 2'], s=50, c='r', marker='x', label='Not Admitted')\n",
    "ax.legend()\n",
    "ax.set_xlabel('Exam 1 Score')\n",
    "ax.set_ylabel('Exam 2 Score')"
   ]
  },
  {
   "cell_type": "markdown",
   "id": "e8a657eb",
   "metadata": {},
   "source": [
    "# Define Data 2"
   ]
  },
  {
   "cell_type": "code",
   "execution_count": 26,
   "id": "3adb35dc",
   "metadata": {
    "scrolled": true
   },
   "outputs": [],
   "source": [
    "# set X (training data) and y (target variable)\n",
    "X=np.array( data.iloc[:,:-1] )\n",
    "# X=data.drop(columns=[\"\",\"\"],axis=1)\n",
    "\n",
    "y=np.array( data.iloc[:,-1]  ).reshape(len(X),1)    #  'pandas.core.frame.DataFrame'\n",
    "# y=data[\"Colummn name\"]\n",
    "cols = data.shape[1] # ==4 length of columns\n",
    "##define theta\n",
    "cols  = (len(data.axes[1]))           #length of columns \n",
    "theta = np.zeros(cols).reshape(cols,1) "
   ]
  },
  {
   "cell_type": "markdown",
   "id": "3d73e028",
   "metadata": {},
   "source": [
    "# SHOWING DATA"
   ]
  },
  {
   "cell_type": "code",
   "execution_count": 27,
   "id": "df5c1af6",
   "metadata": {},
   "outputs": [
    {
     "name": "stdout",
     "output_type": "stream",
     "text": [
      "X.shape =  (100, 2)\n",
      "y.shape =  (100, 1)\n",
      "theta.shape =  (3, 1)\n",
      "      Exam 1     Exam 2  Admitted\n",
      "0  34.623660  78.024693         0\n",
      "1  30.286711  43.894998         0\n",
      "2  35.847409  72.902198         0\n",
      "3  60.182599  86.308552         1\n",
      "4  79.032736  75.344376         1\n",
      "\n",
      "<class 'pandas.core.frame.DataFrame'>\n",
      "RangeIndex: 100 entries, 0 to 99\n",
      "Data columns (total 3 columns):\n",
      " #   Column    Non-Null Count  Dtype  \n",
      "---  ------    --------------  -----  \n",
      " 0   Exam 1    100 non-null    float64\n",
      " 1   Exam 2    100 non-null    float64\n",
      " 2   Admitted  100 non-null    int64  \n",
      "dtypes: float64(2), int64(1)\n",
      "memory usage: 2.5 KB\n",
      "None\n"
     ]
    }
   ],
   "source": [
    "print('X.shape = ' , X.shape)\n",
    "print('y.shape = ' , y.shape)\n",
    "print('theta.shape = ' , theta.shape)\n",
    "print(data.head())\n",
    "print()\n",
    "print(data.info())"
   ]
  },
  {
   "cell_type": "code",
   "execution_count": 28,
   "id": "f3578c09",
   "metadata": {},
   "outputs": [],
   "source": [
    "from sklearn.preprocessing import StandardScaler\n",
    "scaler=StandardScaler()\n",
    "X=scaler.fit_transform(X)"
   ]
  },
  {
   "cell_type": "markdown",
   "id": "3a8c1679",
   "metadata": {},
   "source": [
    "# Sigmoid & Logistic Function\n",
    "<img align=\"left\" src=\"im1.png\"     style=\" width:300px; padding: 10px; \" >As discussed in the lecture videos, for a classification task, we can start by using our linear regression model, $f_{\\mathbf{w},b}(\\mathbf{x}^{(i)}) = \\mathbf{w} \\cdot  \\mathbf{x}^{(i)} + b$, to predict $y$ given $x$. \n",
    "- However, we would like the predictions of our classification model to be between 0 and 1 since our output variable $y$ is either 0 or 1. \n",
    "- This can be accomplished by using a \"sigmoid function\" which maps all input values to values between 0 and 1. \n",
    "\n",
    "\n",
    "Let's implement the sigmoid function and see this for ourselves.\n",
    "\n",
    "## Formula for Sigmoid function\n",
    "\n",
    "The formula for a sigmoid function is as follows -  \n",
    "\n",
    "$g(z) = \\frac{1}{1+e^{-z}}\\tag{1}$\n",
    "\n",
    "In the case of logistic regression, z (the input to the sigmoid function), is the output of a linear regression model. \n",
    "- In the case of a single example, $z$ is scalar.\n",
    "- in the case of multiple examples, $z$ may be a vector consisting of $m$ values, one for each example. \n",
    "- The implementation of the sigmoid function should cover both of these potential input formats.\n",
    "Let's implement this in Python.\n",
    "\n",
    "## Logistic Regression\n",
    "> A logistic regression model applies the sigmoid to the familiar linear regression model as shown below:\n",
    "\n",
    "$$ f_{\\mathbf{w},b}(\\mathbf{x}^{(i)}) = g(\\mathbf{w} \\cdot \\mathbf{x}^{(i)} + b ) \\tag{2} $$ \n",
    "\n",
    "  where\n",
    "\n",
    "  $g(z) = \\frac{1}{1+e^{-z}}\\tag{3}$\n",
    "\n"
   ]
  },
  {
   "cell_type": "code",
   "execution_count": 29,
   "id": "09ec1f8f",
   "metadata": {},
   "outputs": [],
   "source": [
    "### Create Function Sigmoid ###\n",
    "def sigmoid(z):\n",
    "    g = 1/(1+np.exp(-z))\n",
    "    return g"
   ]
  },
  {
   "cell_type": "markdown",
   "id": "232924f9",
   "metadata": {},
   "source": [
    "## Squared error for logistic regression\n",
    "Recall for **Linear** Regression we have used the **squared error cost function**:\n",
    "The equation for the squared error cost with one variable is:\n",
    "  $$J(w,b) = \\frac{1}{2m} \\sum\\limits_{i = 0}^{m-1} (f_{w,b}(x^{(i)}) - y^{(i)})^2 \\tag{1}$$ \n",
    " \n",
    "where \n",
    "  $$f_{w,b}(x^{(i)}) = wx^{(i)} + b \\tag{2}$$\n",
    "But for **Logistic** Regression :\n",
    "  $$f_{w,b}(x^{(i)}) = sigmoid(wx^{(i)} + b )$$\n"
   ]
  },
  {
   "cell_type": "markdown",
   "id": "1990a558",
   "metadata": {},
   "source": [
    "## Cost function\n",
    "\n",
    ">**Definition Note:**  \n",
    "**Loss** is a measure of the difference of a single example to its target value while the  \n",
    "**Cost** is a measure of the losses over the training set\n",
    "\n",
    "Recall that for logistic regression, the cost function is of the form \n",
    "\n",
    "$$ J(\\mathbf{w},b) = \\frac{1}{m} \\sum_{i=0}^{m-1} \\left[ loss(f_{\\mathbf{w},b}(\\mathbf{x}^{(i)}), y^{(i)}) \\right] \\tag{1}$$\n",
    "\n",
    "where\n",
    "* $loss(f_{\\mathbf{w},b}(\\mathbf{x}^{(i)}), y^{(i)})$ is the cost for a single data point, which is:\n",
    "\n",
    "    $$loss(f_{\\mathbf{w},b}(\\mathbf{x}^{(i)}), y^{(i)}) = -y^{(i)} \\log\\left(f_{\\mathbf{w},b}\\left( \\mathbf{x}^{(i)} \\right) \\right) - \\left( 1 - y^{(i)}\\right) \\log \\left( 1 - f_{\\mathbf{w},b}\\left( \\mathbf{x}^{(i)} \\right) \\right) \\tag{2}$$\n",
    "    \n",
    "*  where m is the number of training examples in the data set and:\n",
    "$$\n",
    "\\begin{align}\n",
    "  f_{\\mathbf{w},b}(\\mathbf{x^{(i)}}) &= g(z^{(i)})\\tag{3} \\\\\n",
    "  z^{(i)} &= \\mathbf{w} \\cdot \\mathbf{x}^{(i)}+ b\\tag{4} \\\\\n",
    "  g(z^{(i)}) &= \\frac{1}{1+e^{-z^{(i)}}}\\tag{5} \n",
    "\\end{align}\n",
    "$$\n",
    " "
   ]
  },
  {
   "cell_type": "code",
   "execution_count": 30,
   "id": "8688ba33",
   "metadata": {},
   "outputs": [],
   "source": [
    "cols = (len(X))\n",
    "ones=np.ones(cols)\n",
    "X=np.insert(X,0,ones, axis=1)"
   ]
  },
  {
   "cell_type": "code",
   "execution_count": 31,
   "id": "9318a30b",
   "metadata": {},
   "outputs": [],
   "source": [
    "# ##First Step Convert to MAtrices \n",
    "# ##to be able to calc in next steps\n",
    "\n",
    "theta = np.matrix(theta)\n",
    "X     = np.matrix(X)\n",
    "y     = np.matrix(y)"
   ]
  },
  {
   "cell_type": "code",
   "execution_count": 33,
   "id": "3891931b",
   "metadata": {},
   "outputs": [
    {
     "name": "stdout",
     "output_type": "stream",
     "text": [
      "COST VALUE =  0.693\n",
      "\n",
      "cost =  0.6931471805599453\n"
     ]
    }
   ],
   "source": [
    "#### COST FUNCTION ####\n",
    "def ComputeCost(X,y,theta):\n",
    "    z  =(X * theta)\n",
    "    \n",
    "    G_z=sigmoid(z)\n",
    "    \n",
    "    summation=np.sum(  (np.multiply(-y, np.log(G_z)))  - (np.multiply((1 - y), np.log(1 - G_z))) )\n",
    "    \n",
    "    m = len(X)\n",
    "    return summation / m\n",
    "\n",
    "print('COST VALUE = ' , round(ComputeCost(X, y, theta),3))\n",
    "\n",
    "def cost(theta, X, y):\n",
    "    theta = np.matrix(theta.T)\n",
    "    X = np.matrix(X)\n",
    "    y = np.matrix(y)\n",
    "    first = np.multiply(-y, np.log(sigmoid(X * theta.T)))\n",
    "    second = np.multiply((1 - y), np.log(1 - sigmoid(X * theta.T)))\n",
    "    return np.sum(first - second) / (len(X))\n",
    "print()\n",
    "thiscost = cost(theta,X,y) \n",
    "print('cost = ' , thiscost)"
   ]
  },
  {
   "cell_type": "markdown",
   "id": "1936faa8",
   "metadata": {},
   "source": [
    "# Logistic Gradient Descent\n",
    "<img align=\"right\" src=\"im2.png\"     style=\" width:400px; padding: 10px; \" >\n",
    "\n",
    "Recall the gradient descent algorithm utilizes the gradient calculation:\n",
    "$$\\begin{align*}\n",
    "&\\text{repeat until convergence:} \\; \\lbrace \\\\\n",
    "&  \\; \\; \\;w_j = w_j -  \\alpha \\frac{\\partial J(\\mathbf{w},b)}{\\partial w_j} \\tag{1}  \\; & \\text{for j := 0..n-1} \\\\ \n",
    "&  \\; \\; \\;  \\; \\;b = b -  \\alpha \\frac{\\partial J(\\mathbf{w},b)}{\\partial b} \\\\\n",
    "&\\rbrace\n",
    "\\end{align*}$$\n",
    "\n",
    "Where each iteration performs simultaneous updates on $w_j$ for all $j$, where\n",
    "$$\\begin{align*}\n",
    "\\frac{\\partial J(\\mathbf{w},b)}{\\partial w_j}  &= \\frac{1}{m} \\sum\\limits_{i = 0}^{m-1} (f_{\\mathbf{w},b}(\\mathbf{x}^{(i)}) - y^{(i)})x_{j}^{(i)} \\tag{2} \\\\\n",
    "\\frac{\\partial J(\\mathbf{w},b)}{\\partial b}  &= \\frac{1}{m} \\sum\\limits_{i = 0}^{m-1} (f_{\\mathbf{w},b}(\\mathbf{x}^{(i)}) - y^{(i)}) \\tag{3} \n",
    "\\end{align*}$$\n",
    "\n",
    "* m is the number of training examples in the data set      \n",
    "* $f_{\\mathbf{w},b}(x^{(i)})$ is the model's prediction, while $y^{(i)}$ is the target\n",
    "* For a logistic regression model  \n",
    "    $z = \\mathbf{w} \\cdot \\mathbf{x} + b$  \n",
    "    $f_{\\mathbf{w},b}(x) = g(z)$  \n",
    "    where $g(z)$ is the sigmoid function:  \n",
    "    $g(z) = \\frac{1}{1+e^{-z}}$   \n",
    "    \n"
   ]
  },
  {
   "cell_type": "code",
   "execution_count": 34,
   "id": "7a52dece",
   "metadata": {},
   "outputs": [],
   "source": [
    "#### GRADIEN DESCENT ####\n",
    "def GradientDescent(X, y, theta, alpha, iters):\n",
    "    global start,end\n",
    "    \n",
    "    start = time.time()\n",
    "\n",
    "        \n",
    "    New_Theta   = np.matrix(np.zeros(theta.shape))  # same shape of my Theta matrix\n",
    "    parameters  = int(theta.ravel().shape[1])       #get how much theta that i have\n",
    "    costs       = np.zeros(iters) \n",
    "    m           = len(X)\n",
    "    \n",
    "    for i in range(iters):\n",
    "        z  =( X * theta )\n",
    "        G_z=sigmoid( z ) \n",
    "        term=(G_z - y)\n",
    "        \n",
    "        for j in range(parameters):\n",
    "            term1 = np.multiply(term , X[:,j])\n",
    "        \n",
    "            New_Theta[j,0] = theta[j,0] - (  (alpha) * (np.sum(term1)/m )  )\n",
    "\n",
    "            \n",
    "        theta    = New_Theta\n",
    "        costs[i] = ComputeCost(X,y, theta)\n",
    "    \n",
    "    end = time.time()\n",
    "\n",
    "    return theta, costs\n",
    "\n",
    "\n",
    "def gradient(theta, X, y):\n",
    "    theta = np.matrix(theta)\n",
    "    X     = np.matrix(X)\n",
    "    y     = np.matrix(y)\n",
    "    parameters = int(theta.ravel().shape[1])\n",
    "    grad = np.zeros(parameters)\n",
    "    \n",
    "    error = sigmoid(X * theta.T) - y\n",
    "    \n",
    "    for i in range(parameters):\n",
    "        term = np.multiply(error, X[:,i])\n",
    "        grad[i] = np.sum(term) / len(X)\n",
    "    \n",
    "    return grad"
   ]
  },
  {
   "cell_type": "code",
   "execution_count": 36,
   "id": "777ce293",
   "metadata": {},
   "outputs": [
    {
     "name": "stdout",
     "output_type": "stream",
     "text": [
      "[0.69299512 0.69284312 0.69269121 0.69253937 0.6923876  0.6922359\n",
      " 0.69208428 0.69193274 0.69178127 0.69162987 0.69147855 0.6913273\n",
      " 0.69117612 0.69102502 0.69087399 0.69072304 0.69057216 0.69042135\n",
      " 0.69027062 0.69011996 0.68996938 0.68981886 0.68966843 0.68951806\n",
      " 0.68936777 0.68921755 0.68906741 0.68891734 0.68876734 0.68861742\n",
      " 0.68846757 0.68831779 0.68816809 0.68801846 0.6878689  0.68771941\n",
      " 0.68757    0.68742066 0.6872714  0.68712221 0.68697309 0.68682404\n",
      " 0.68667507 0.68652617 0.68637734 0.68622858 0.6860799  0.68593129\n",
      " 0.68578275 0.68563429 0.6854859  0.68533758 0.68518933 0.68504115\n",
      " 0.68489305 0.68474502 0.68459707 0.68444918 0.68430137 0.68415363\n",
      " 0.68400596 0.68385836 0.68371084 0.68356339 0.68341601 0.6832687\n",
      " 0.68312146 0.6829743  0.68282721 0.68268019 0.68253324 0.68238636\n",
      " 0.68223956 0.68209283 0.68194617 0.68179958 0.68165306 0.68150661\n",
      " 0.68136024 0.68121394 0.6810677  0.68092154 0.68077546 0.68062944\n",
      " 0.68048349 0.68033762 0.68019181 0.68004608 0.67990042 0.67975483\n",
      " 0.67960931 0.67946387 0.67931849 0.67917319 0.67902795 0.67888279\n",
      " 0.6787377  0.67859267 0.67844772 0.67830284 0.67815803 0.6780133\n",
      " 0.67786863 0.67772403 0.67757951 0.67743505 0.67729066 0.67714635\n",
      " 0.67700211 0.67685793 0.67671383 0.6765698  0.67642583 0.67628194\n",
      " 0.67613812 0.67599437 0.67585069 0.67570708 0.67556353 0.67542006\n",
      " 0.67527666 0.67513333 0.67499007 0.67484688 0.67470376 0.67456071\n",
      " 0.67441773 0.67427482 0.67413197 0.6739892  0.6738465  0.67370387\n",
      " 0.6735613  0.67341881 0.67327639 0.67313403 0.67299175 0.67284953\n",
      " 0.67270739 0.67256531 0.67242331 0.67228137 0.6721395  0.6719977\n",
      " 0.67185597 0.67171431 0.67157272 0.6714312  0.67128974 0.67114836\n",
      " 0.67100704 0.6708658  0.67072462 0.67058351 0.67044247 0.6703015\n",
      " 0.6701606  0.67001976 0.669879   0.6697383  0.66959768 0.66945712\n",
      " 0.66931663 0.66917621 0.66903585 0.66889557 0.66875535 0.66861521\n",
      " 0.66847513 0.66833512 0.66819517 0.6680553  0.66791549 0.66777575\n",
      " 0.66763608 0.66749648 0.66735695 0.66721748 0.66707809 0.66693876\n",
      " 0.6667995  0.6666603  0.66652118 0.66638212 0.66624313 0.66610421\n",
      " 0.66596535 0.66582656 0.66568785 0.66554919 0.66541061 0.66527209\n",
      " 0.66513364 0.66499526 0.66485695 0.6647187  0.66458052 0.66444241\n",
      " 0.66430437 0.66416639 0.66402848 0.66389064 0.66375286 0.66361515\n",
      " 0.66347751 0.66333994 0.66320243 0.66306499 0.66292762 0.66279031\n",
      " 0.66265307 0.6625159  0.66237879 0.66224176 0.66210478 0.66196788\n",
      " 0.66183104 0.66169427 0.66155756 0.66142092 0.66128435 0.66114785\n",
      " 0.66101141 0.66087503 0.66073873 0.66060249 0.66046631 0.66033021\n",
      " 0.66019417 0.66005819 0.65992228 0.65978644 0.65965066 0.65951495\n",
      " 0.65937931 0.65924373 0.65910822 0.65897277 0.65883739 0.65870208\n",
      " 0.65856683 0.65843165 0.65829653 0.65816148 0.65802649 0.65789157\n",
      " 0.65775672 0.65762193 0.65748721 0.65735255 0.65721796 0.65708343\n",
      " 0.65694897 0.65681458 0.65668025 0.65654598 0.65641178 0.65627765\n",
      " 0.65614358 0.65600958 0.65587564 0.65574177 0.65560796 0.65547422\n",
      " 0.65534054 0.65520692 0.65507338 0.65493989 0.65480648 0.65467312\n",
      " 0.65453983 0.65440661 0.65427345 0.65414036 0.65400733 0.65387436\n",
      " 0.65374146 0.65360863 0.65347586 0.65334315 0.65321051 0.65307793\n",
      " 0.65294542 0.65281297 0.65268058 0.65254826 0.65241601 0.65228381\n",
      " 0.65215169 0.65201962 0.65188763 0.65175569 0.65162382 0.65149201\n",
      " 0.65136027 0.65122859 0.65109698 0.65096543 0.65083394 0.65070252\n",
      " 0.65057116 0.65043986 0.65030863 0.65017746 0.65004636 0.64991532\n",
      " 0.64978434 0.64965342 0.64952257 0.64939179 0.64926106 0.6491304\n",
      " 0.64899981 0.64886928 0.64873881 0.6486084  0.64847806 0.64834778\n",
      " 0.64821756 0.64808741 0.64795732 0.64782729 0.64769733 0.64756742\n",
      " 0.64743759 0.64730781 0.6471781  0.64704845 0.64691886 0.64678934\n",
      " 0.64665988 0.64653048 0.64640115 0.64627187 0.64614266 0.64601352\n",
      " 0.64588443 0.64575541 0.64562645 0.64549755 0.64536872 0.64523995\n",
      " 0.64511124 0.64498259 0.644854   0.64472548 0.64459702 0.64446862\n",
      " 0.64434029 0.64421201 0.6440838  0.64395565 0.64382756 0.64369954\n",
      " 0.64357158 0.64344367 0.64331583 0.64318806 0.64306034 0.64293269\n",
      " 0.64280509 0.64267756 0.6425501  0.64242269 0.64229534 0.64216806\n",
      " 0.64204084 0.64191368 0.64178658 0.64165954 0.64153256 0.64140565\n",
      " 0.6412788  0.641152   0.64102527 0.6408986  0.640772   0.64064545\n",
      " 0.64051896 0.64039254 0.64026618 0.64013988 0.64001363 0.63988745\n",
      " 0.63976134 0.63963528 0.63950928 0.63938334 0.63925747 0.63913165\n",
      " 0.6390059  0.63888021 0.63875458 0.638629   0.63850349 0.63837804\n",
      " 0.63825265 0.63812733 0.63800206 0.63787685 0.6377517  0.63762662\n",
      " 0.63750159 0.63737662 0.63725172 0.63712687 0.63700209 0.63687736\n",
      " 0.6367527  0.63662809 0.63650355 0.63637907 0.63625464 0.63613028\n",
      " 0.63600597 0.63588173 0.63575755 0.63563342 0.63550936 0.63538535\n",
      " 0.63526141 0.63513752 0.6350137  0.63488993 0.63476623 0.63464258\n",
      " 0.634519   0.63439547 0.634272   0.63414859 0.63402525 0.63390196\n",
      " 0.63377873 0.63365556 0.63353245 0.6334094  0.63328641 0.63316347\n",
      " 0.6330406  0.63291779 0.63279503 0.63267234 0.6325497  0.63242712\n",
      " 0.63230461 0.63218215 0.63205975 0.63193741 0.63181512 0.6316929\n",
      " 0.63157073 0.63144863 0.63132658 0.63120459 0.63108266 0.63096079\n",
      " 0.63083898 0.63071723 0.63059553 0.6304739  0.63035232 0.6302308\n",
      " 0.63010934 0.62998794 0.62986659 0.62974531 0.62962408 0.62950291\n",
      " 0.6293818  0.62926075 0.62913976 0.62901882 0.62889794 0.62877712\n",
      " 0.62865636 0.62853566 0.62841501 0.62829442 0.6281739  0.62805342\n",
      " 0.62793301 0.62781265 0.62769236 0.62757212 0.62745193 0.62733181\n",
      " 0.62721174 0.62709173 0.62697178 0.62685189 0.62673205 0.62661227\n",
      " 0.62649255 0.62637289 0.62625328 0.62613373 0.62601424 0.62589481\n",
      " 0.62577543 0.62565611]\n",
      "Theta 0 : 0.04702\n",
      "Theta 1 : 0.13239\n",
      "Theta 2 : 0.11819\n",
      "\n",
      "Final Cost =  0.6257\n",
      "\n",
      "TIME IS : 0.1282 Sec.\n"
     ]
    }
   ],
   "source": [
    "# initialize variables for learning rate and iterations\n",
    "alpha = 0.001\n",
    "iters = 500\n",
    "\n",
    "# perform gradient descent to \"fit\" the model parameters\n",
    "New_theta, costs = GradientDescent(X, y, theta, alpha, iters)\n",
    "print(costs)\n",
    "def New_Theta():\n",
    "    c=0\n",
    "    for i in New_theta:\n",
    "        print(f\"Theta {c} : {round((float(i)),5)}\")\n",
    "        c+=1\n",
    "New_Theta()\n",
    "\n",
    "print('\\nFinal Cost = ' , round(ComputeCost(X,y,New_theta) , 4)) # final cost\n",
    "print(f\"\\nTIME IS : {round((end-start),4)} Sec.\")"
   ]
  },
  {
   "cell_type": "code",
   "execution_count": 37,
   "id": "9ae75adc",
   "metadata": {},
   "outputs": [
    {
     "name": "stdout",
     "output_type": "stream",
     "text": [
      "New Theta is : [1.71787865 3.99150585 3.72363972]\n",
      "Final Cost is : 0.2035\n"
     ]
    }
   ],
   "source": [
    "import scipy.optimize as opt\n",
    "result = opt.fmin_tnc(func=cost, x0=theta, fprime=gradient, args=(X, y))\n",
    "\n",
    "F_cost = cost(result[0], X, y)\n",
    "\n",
    "print(f\"New Theta is : {result[0]}\")\n",
    "print(f\"Final Cost is : {round(F_cost,4)}\" )"
   ]
  },
  {
   "cell_type": "markdown",
   "id": "552efc73",
   "metadata": {},
   "source": [
    "# CREATE A MODEL OF PREDECTION"
   ]
  },
  {
   "cell_type": "code",
   "execution_count": 69,
   "id": "26b97d95",
   "metadata": {},
   "outputs": [],
   "source": [
    "def predict(theta, X):\n",
    "    z=(X * theta)\n",
    "    probability = sigmoid(z)\n",
    "    return [1 if x >= 0.5 else 0 for x in probability]              "
   ]
  },
  {
   "cell_type": "code",
   "execution_count": 72,
   "id": "6f535ab3",
   "metadata": {},
   "outputs": [
    {
     "name": "stdout",
     "output_type": "stream",
     "text": [
      "Predicrtion =  [1, 1, 1, 1, 1, 1, 1, 1, 1, 1, 1, 1, 1, 1, 1, 1, 1, 1, 1, 1, 1, 1, 1, 1, 1, 1, 1, 1, 1, 1, 1, 1, 1, 1, 1, 1, 1, 1, 1, 1, 1, 1, 1, 1, 1, 1, 1, 1, 1, 1, 1, 1, 1, 1, 1, 1, 1, 1, 1, 1, 1, 1, 1, 1, 1, 1, 1, 1, 1, 1, 1, 1, 1, 1, 1, 1, 1, 1, 1, 1, 1, 1, 1, 1, 1, 1, 1, 1, 1, 1, 1, 1, 1, 1, 1, 1, 1, 1, 1, 1]\n"
     ]
    }
   ],
   "source": [
    "# theta_min = np.matrix(result[0])\n",
    "\n",
    "# predictions = predict(theta_min, X)\n",
    "\n",
    "f1=input()\n",
    "predictions = predict(New_theta, [,])\n",
    "\n",
    "\n",
    "print ('Predicrtion = ',predictions)"
   ]
  },
  {
   "cell_type": "markdown",
   "id": "ef288251",
   "metadata": {},
   "source": [
    "# SCORE OF ERROR"
   ]
  },
  {
   "cell_type": "code",
   "execution_count": 73,
   "id": "0b5c2e0c",
   "metadata": {},
   "outputs": [
    {
     "name": "stdout",
     "output_type": "stream",
     "text": [
      "Accuracy Score is :  60\n"
     ]
    }
   ],
   "source": [
    "#Import Libraries\n",
    "from sklearn.metrics import accuracy_score\n",
    "#----------------------------------------------------\n",
    "#Calculating Accuracy Score  : ((TP + TN) / float(TP + TN + FP + FN))\n",
    "AccScore = accuracy_score(y,predictions, normalize=False)\n",
    "print('Accuracy Score is : ', AccScore)"
   ]
  },
  {
   "cell_type": "code",
   "execution_count": 27,
   "id": "cf2b5241",
   "metadata": {},
   "outputs": [
    {
     "name": "stdout",
     "output_type": "stream",
     "text": [
      "F1 Score is :  0.6\n"
     ]
    }
   ],
   "source": [
    "#Import Libraries\n",
    "from sklearn.metrics import f1_score\n",
    "#----------------------------------------------------\n",
    "\n",
    "#Calculating F1 Score  : 2 * (precision * recall) / (precision + recall)\n",
    "# f1_score(y_true, y_pred, labels=None, pos_label=1, average=’binary’, sample_weight=None)\n",
    "\n",
    "F1Score = f1_score(y,predictions, average='micro') #it can be : binary,macro,weighted,samples\n",
    "print('F1 Score is : ', F1Score)"
   ]
  },
  {
   "cell_type": "code",
   "execution_count": 28,
   "id": "4ae4f21b",
   "metadata": {},
   "outputs": [
    {
     "name": "stdout",
     "output_type": "stream",
     "text": [
      "ROCAUC Score :  0.5\n"
     ]
    },
    {
     "name": "stderr",
     "output_type": "stream",
     "text": [
      "C:\\Users\\MoHaMeD\\AppData\\Local\\Programs\\Python\\Python311\\Lib\\site-packages\\sklearn\\utils\\validation.py:727: FutureWarning: np.matrix usage is deprecated in 1.0 and will raise a TypeError in 1.2. Please convert to a numpy array with np.asarray. For more information see: https://numpy.org/doc/stable/reference/generated/numpy.matrix.html\n",
      "  warnings.warn(\n"
     ]
    }
   ],
   "source": [
    "#Import Libraries\n",
    "from sklearn.metrics import roc_auc_score\n",
    "#----------------------------------------------------\n",
    "\n",
    "#Calculating ROC AUC Score:  \n",
    "#roc_auc_score(y_true, y_score, average=’macro’, sample_weight=None,max_fpr=None)\n",
    "\n",
    "ROCAUCScore = roc_auc_score(y,predictions, average='micro') #it can be : macro,weighted,samples\n",
    "print('ROCAUC Score : ', ROCAUCScore)"
   ]
  },
  {
   "cell_type": "code",
   "execution_count": 29,
   "id": "a2322fe9",
   "metadata": {},
   "outputs": [
    {
     "name": "stdout",
     "output_type": "stream",
     "text": [
      "Zero One Loss Value :  40\n"
     ]
    }
   ],
   "source": [
    "#Import Libraries\n",
    "from sklearn.metrics import zero_one_loss\n",
    "#----------------------------------------------------\n",
    "\n",
    "#Calculating Zero One Loss:  \n",
    "#zero_one_loss(y_true, y_pred, normalize = True, sample_weight = None)\n",
    "\n",
    "ZeroOneLossValue = zero_one_loss(y,predictions,normalize=False) \n",
    "print('Zero One Loss Value : ', ZeroOneLossValue )"
   ]
  },
  {
   "cell_type": "code",
   "execution_count": 30,
   "id": "d853231e",
   "metadata": {},
   "outputs": [
    {
     "name": "stdout",
     "output_type": "stream",
     "text": [
      "Confusion Matrix is : \n",
      " [[ 0 40]\n",
      " [ 0 60]]\n"
     ]
    },
    {
     "data": {
      "image/png": "[encoded data removed]",
      "text/plain": [
       "<Figure size 640x480 with 2 Axes>"
      ]
     },
     "metadata": {},
     "output_type": "display_data"
    }
   ],
   "source": [
    "#Import Libraries\n",
    "from sklearn.metrics import confusion_matrix\n",
    "import seaborn as sns\n",
    "import matplotlib.pyplot as plt\n",
    "#----------------------------------------------------\n",
    "#Calculating Confusion Matrix\n",
    "CM = confusion_matrix(y, predictions)\n",
    "print('Confusion Matrix is : \\n', CM)\n",
    "\n",
    "# drawing confusion matrix\n",
    "sns.heatmap(CM, center = True)\n",
    "plt.show()"
   ]
  },
  {
   "cell_type": "markdown",
   "id": "faee4181",
   "metadata": {},
   "source": [
    "# Regularized Logistic Regression"
   ]
  },
  {
   "cell_type": "code",
   "execution_count": null,
   "id": "3be15c32",
   "metadata": {},
   "outputs": [],
   "source": [
    "def map_feature(X1, X2):\n",
    "    \"\"\"\n",
    "    Feature mapping function to polynomial features    \n",
    "    \"\"\"\n",
    "    X1 = np.atleast_1d(X1)\n",
    "    X2 = np.atleast_1d(X2)\n",
    "    degree = 6\n",
    "    out = []\n",
    "    for i in range(1, degree+1):\n",
    "        for j in range(i + 1):\n",
    "            out.append((X1**(i-j) * (X2**j)))\n",
    "    return np.stack(out, axis=1)"
   ]
  }
 ],
 "metadata": {
  "kernelspec": {
   "display_name": "Python 3 (ipykernel)",
   "language": "python",
   "name": "python3"
  },
  "language_info": {
   "codemirror_mode": {
    "name": "ipython",
    "version": 3
   },
   "file_extension": ".py",
   "mimetype": "text/x-python",
   "name": "python",
   "nbconvert_exporter": "python",
   "pygments_lexer": "ipython3",
   "version": "3.11.0"
  }
 },
 "nbformat": 4,
 "nbformat_minor": 5
}
