{
 "cells": [
  {
   "cell_type": "markdown",
   "id": "4afc5aaf-95a5-4175-93fe-d0aff80af43e",
   "metadata": {
    "jp-MarkdownHeadingCollapsed": true
   },
   "source": [
    "# POS Via NLTK"
   ]
  },
  {
   "cell_type": "code",
   "execution_count": 1,
   "id": "5d7d5985-7cbd-4dcb-9b54-c17ba3e00f00",
   "metadata": {},
   "outputs": [],
   "source": [
    "import nltk\n",
    "from spacy import explain\n",
    "from nltk.tokenize import word_tokenize, PunktSentenceTokenizer"
   ]
  },
  {
   "cell_type": "markdown",
   "id": "a7318573-5762-437f-aefd-be8174310332",
   "metadata": {},
   "source": [
    "#### First Step Is Tokenize The Text Into Sentences<br><br> Then Tokenize It Into Word "
   ]
  },
  {
   "cell_type": "code",
   "execution_count": 2,
   "id": "930ebc48-5a65-41f3-8e9f-79bdac19894c",
   "metadata": {},
   "outputs": [],
   "source": [
    "text1  ='''There is a latent force within every person. it could be a force of good or evil. and he can control it according to his will. and this is evidence that a person has a choice.'''\n",
    "\n",
    "text2 ='''داخل كل شخص قوة كامنة. من الممكن ان تكون قوة خير أو شر.كما أنه يستطيع التحكم بها حسب إرادته وهذا دليل على ان الإنسان مُخير.\n",
    "'''"
   ]
  },
  {
   "cell_type": "code",
   "execution_count": 3,
   "id": "ce5d788c-72f3-4f34-91d7-2d7bc3677f76",
   "metadata": {
    "collapsed": true,
    "jupyter": {
     "outputs_hidden": true
    }
   },
   "outputs": [
    {
     "name": "stdout",
     "output_type": "stream",
     "text": [
      "word : (There), type : (EX) , means :  (existential there)\n",
      "\n",
      "word : (is), type : (VBZ) , means :  (verb, 3rd person singular present)\n",
      "\n",
      "word : (a), type : (DT) , means :  (determiner)\n",
      "\n",
      "word : (latent), type : (JJ) , means :  (adjective (English), other noun-modifier (Chinese))\n",
      "\n",
      "word : (force), type : (NN) , means :  (noun, singular or mass)\n",
      "\n",
      "word : (within), type : (IN) , means :  (conjunction, subordinating or preposition)\n",
      "\n",
      "word : (every), type : (DT) , means :  (determiner)\n",
      "\n",
      "word : (person), type : (NN) , means :  (noun, singular or mass)\n",
      "\n",
      "word : (.), type : (.) , means :  (punctuation mark, sentence closer)\n",
      "\n",
      "-------------------------------------\n",
      "\n",
      "word : (it), type : (PRP) , means :  (pronoun, personal)\n",
      "\n",
      "word : (could), type : (MD) , means :  (verb, modal auxiliary)\n",
      "\n",
      "word : (be), type : (VB) , means :  (verb, base form)\n",
      "\n",
      "word : (a), type : (DT) , means :  (determiner)\n",
      "\n",
      "word : (force), type : (NN) , means :  (noun, singular or mass)\n",
      "\n",
      "word : (of), type : (IN) , means :  (conjunction, subordinating or preposition)\n",
      "\n",
      "word : (good), type : (JJ) , means :  (adjective (English), other noun-modifier (Chinese))\n",
      "\n",
      "word : (or), type : (CC) , means :  (conjunction, coordinating)\n",
      "\n",
      "word : (evil), type : (JJ) , means :  (adjective (English), other noun-modifier (Chinese))\n",
      "\n",
      "word : (.), type : (.) , means :  (punctuation mark, sentence closer)\n",
      "\n",
      "-------------------------------------\n",
      "\n",
      "word : (and), type : (CC) , means :  (conjunction, coordinating)\n",
      "\n",
      "word : (he), type : (PRP) , means :  (pronoun, personal)\n",
      "\n",
      "word : (can), type : (MD) , means :  (verb, modal auxiliary)\n",
      "\n",
      "word : (control), type : (VB) , means :  (verb, base form)\n",
      "\n",
      "word : (it), type : (PRP) , means :  (pronoun, personal)\n",
      "\n",
      "word : (according), type : (VBG) , means :  (verb, gerund or present participle)\n",
      "\n",
      "word : (to), type : (TO) , means :  (infinitival \"to\")\n",
      "\n",
      "word : (his), type : (PRP$) , means :  (pronoun, possessive)\n",
      "\n",
      "word : (will), type : (MD) , means :  (verb, modal auxiliary)\n",
      "\n",
      "word : (.), type : (.) , means :  (punctuation mark, sentence closer)\n",
      "\n",
      "-------------------------------------\n",
      "\n",
      "word : (and), type : (CC) , means :  (conjunction, coordinating)\n",
      "\n",
      "word : (this), type : (DT) , means :  (determiner)\n",
      "\n",
      "word : (is), type : (VBZ) , means :  (verb, 3rd person singular present)\n",
      "\n",
      "word : (evidence), type : (NN) , means :  (noun, singular or mass)\n",
      "\n",
      "word : (that), type : (IN) , means :  (conjunction, subordinating or preposition)\n",
      "\n",
      "word : (a), type : (DT) , means :  (determiner)\n",
      "\n",
      "word : (person), type : (NN) , means :  (noun, singular or mass)\n",
      "\n",
      "word : (has), type : (VBZ) , means :  (verb, 3rd person singular present)\n",
      "\n",
      "word : (a), type : (DT) , means :  (determiner)\n",
      "\n",
      "word : (choice), type : (NN) , means :  (noun, singular or mass)\n",
      "\n",
      "word : (.), type : (.) , means :  (punctuation mark, sentence closer)\n",
      "\n",
      "-------------------------------------\n",
      "\n"
     ]
    }
   ],
   "source": [
    "tokens1     = PunktSentenceTokenizer(text1)\n",
    "S_tokenized = tokens1.tokenize(text1)\n",
    "# Done Tekonize Into Sentences\n",
    "\n",
    "for Sentence in S_tokenized:\n",
    "    for word , means in nltk.pos_tag(word_tokenize(Sentence)): #Here We Tokenize The Sentence Into Words\n",
    "        print(f'word : ({word}), type : ({means}) , means :  ({explain(means)})\\n')\n",
    "    print(\"-------------------------------------\\n\")"
   ]
  },
  {
   "cell_type": "code",
   "execution_count": 4,
   "id": "7f1f0a03-a68b-4277-bf59-4198d0cf9ff8",
   "metadata": {
    "collapsed": true,
    "jupyter": {
     "outputs_hidden": true
    }
   },
   "outputs": [
    {
     "name": "stdout",
     "output_type": "stream",
     "text": [
      "word : (داخل), type : (JJ) , means :  (adjective (English), other noun-modifier (Chinese))\n",
      "\n",
      "word : (كل), type : (NNP) , means :  (noun, proper singular)\n",
      "\n",
      "word : (شخص), type : (NNP) , means :  (noun, proper singular)\n",
      "\n",
      "word : (قوة), type : (NNP) , means :  (noun, proper singular)\n",
      "\n",
      "word : (كامنة), type : (NNP) , means :  (noun, proper singular)\n",
      "\n",
      "word : (.), type : (.) , means :  (punctuation mark, sentence closer)\n",
      "\n",
      "-------------------------------------\n",
      "\n",
      "word : (من), type : (JJ) , means :  (adjective (English), other noun-modifier (Chinese))\n",
      "\n",
      "word : (الممكن), type : (NNP) , means :  (noun, proper singular)\n",
      "\n",
      "word : (ان), type : (NNP) , means :  (noun, proper singular)\n",
      "\n",
      "word : (تكون), type : (NNP) , means :  (noun, proper singular)\n",
      "\n",
      "word : (قوة), type : (NNP) , means :  (noun, proper singular)\n",
      "\n",
      "word : (خير), type : (NNP) , means :  (noun, proper singular)\n",
      "\n",
      "word : (أو), type : (NNP) , means :  (noun, proper singular)\n",
      "\n",
      "word : (شر.كما), type : (NNP) , means :  (noun, proper singular)\n",
      "\n",
      "word : (أنه), type : (NNP) , means :  (noun, proper singular)\n",
      "\n",
      "word : (يستطيع), type : (NNP) , means :  (noun, proper singular)\n",
      "\n",
      "word : (التحكم), type : (NNP) , means :  (noun, proper singular)\n",
      "\n",
      "word : (بها), type : (NNP) , means :  (noun, proper singular)\n",
      "\n",
      "word : (حسب), type : (NNP) , means :  (noun, proper singular)\n",
      "\n",
      "word : (إرادته), type : (NNP) , means :  (noun, proper singular)\n",
      "\n",
      "word : (وهذا), type : (NNP) , means :  (noun, proper singular)\n",
      "\n",
      "word : (دليل), type : (NNP) , means :  (noun, proper singular)\n",
      "\n",
      "word : (على), type : (NNP) , means :  (noun, proper singular)\n",
      "\n",
      "word : (ان), type : (NNP) , means :  (noun, proper singular)\n",
      "\n",
      "word : (الإنسان), type : (NNP) , means :  (noun, proper singular)\n",
      "\n",
      "word : (مُخير), type : (NNP) , means :  (noun, proper singular)\n",
      "\n",
      "word : (.), type : (.) , means :  (punctuation mark, sentence closer)\n",
      "\n",
      "-------------------------------------\n",
      "\n"
     ]
    }
   ],
   "source": [
    "tokens2     = PunktSentenceTokenizer(text2)\n",
    "S_tokenized = tokens1.tokenize(text2)\n",
    "# Done Tekonize Into Sentences\n",
    "\n",
    "for Sentence in S_tokenized:\n",
    "    for word , means in nltk.pos_tag(word_tokenize(Sentence)): #Here We Tokenize The Sentence Into Words\n",
    "        print(f'word : ({word}), type : ({means}) , means :  ({explain(means)})\\n')\n",
    "    print(\"-------------------------------------\\n\")"
   ]
  },
  {
   "cell_type": "markdown",
   "id": "9d532fc4-b525-4d99-a8fb-1978a920c865",
   "metadata": {
    "jp-MarkdownHeadingCollapsed": true
   },
   "source": [
    "### Anothe Example"
   ]
  },
  {
   "cell_type": "code",
   "execution_count": 5,
   "id": "61c9333b-a214-4345-9376-7319195391ea",
   "metadata": {
    "collapsed": true,
    "jupyter": {
     "outputs_hidden": true
    }
   },
   "outputs": [
    {
     "name": "stdout",
     "output_type": "stream",
     "text": [
      "word : (Moses), type : (NNS) , means :  (noun, plural)\n",
      "\n",
      "word : (supposes), type : (VBZ) , means :  (verb, 3rd person singular present)\n",
      "\n",
      "word : (his), type : (PRP$) , means :  (pronoun, possessive)\n",
      "\n",
      "word : (toeses), type : (NNS) , means :  (noun, plural)\n",
      "\n",
      "word : (are), type : (VBP) , means :  (verb, non-3rd person singular present)\n",
      "\n",
      "word : (roses), type : (NNS) , means :  (noun, plural)\n",
      "\n",
      "word : (but), type : (CC) , means :  (conjunction, coordinating)\n",
      "\n",
      "word : (moses), type : (VBZ) , means :  (verb, 3rd person singular present)\n",
      "\n",
      "word : (supposes), type : (NNS) , means :  (noun, plural)\n",
      "\n",
      "word : (erroneously), type : (RB) , means :  (adverb)\n",
      "\n"
     ]
    }
   ],
   "source": [
    "Sentence = 'Moses supposes his toeses are roses but moses supposes erroneously'\n",
    "Tokens   = nltk.word_tokenize(Sentence)\n",
    "\n",
    "for word , means in nltk.pos_tag(Tokens):\n",
    "    print(f'word : ({word}), type : ({means}) , means :  ({explain(means)})\\n')"
   ]
  },
  {
   "cell_type": "markdown",
   "id": "77092780-58d6-45d6-a467-bc02a4c01f51",
   "metadata": {
    "jp-MarkdownHeadingCollapsed": true
   },
   "source": [
    "# POS Via Spacy"
   ]
  },
  {
   "cell_type": "code",
   "execution_count": 6,
   "id": "58b16ba7-f297-44b1-8798-3b7b1cd6b8ae",
   "metadata": {
    "collapsed": true,
    "jupyter": {
     "outputs_hidden": true
    }
   },
   "outputs": [
    {
     "name": "stderr",
     "output_type": "stream",
     "text": [
      "C:\\Users\\MoHaMeD\\AppData\\Local\\Programs\\Python\\Python311\\Lib\\site-packages\\spacy\\util.py:887: UserWarning: [W095] Model 'en_core_web_sm' (3.4.1) was trained with spaCy v3.4 and may not be 100% compatible with the current version (3.5.1). If you see errors or degraded performance, download a newer compatible model or retrain your custom model with the current spaCy version. For more details and available updates, run: python -m spacy validate\n",
      "  warnings.warn(warn_msg)\n"
     ]
    }
   ],
   "source": [
    "import spacy\n",
    "Pos = spacy.load('en_core_web_sm')"
   ]
  },
  {
   "cell_type": "code",
   "execution_count": 7,
   "id": "5044e55d-0ff0-4e1a-adf3-ca47bf827425",
   "metadata": {},
   "outputs": [],
   "source": [
    "Pos1 = Pos('''There is a latent force within every person, it could be a force of good or evil, and he can control it according to his will, and this is evidence that a person has a choice.''')\n",
    "\n",
    "Pos2 =Pos('''داخل كل شخص قوة كامنة. من الممكن ان تكون قوة خير أو شر.كما أنه يستطيع التحكم بها حسب إرادته وهذا دليل على ان الإنسان مُخير.\n",
    "''')"
   ]
  },
  {
   "cell_type": "code",
   "execution_count": 8,
   "id": "ad82d868-f419-4683-b77a-b652a52ee7e0",
   "metadata": {
    "collapsed": true,
    "jupyter": {
     "outputs_hidden": true
    },
    "scrolled": true
   },
   "outputs": [
    {
     "name": "stdout",
     "output_type": "stream",
     "text": [
      "Words is   :  There\n",
      "POS is     :  95 === PRON === pronoun\n",
      "Dep is     :  417 === expl === expletive\n",
      "-----------------------\n",
      "Words is   :  is\n",
      "POS is     :  100 === VERB === verb\n",
      "Dep is     :  408 === ccomp === clausal complement\n",
      "-----------------------\n",
      "Words is   :  a\n",
      "POS is     :  90 === DET === determiner\n",
      "Dep is     :  415 === det === determiner\n",
      "-----------------------\n",
      "Words is   :  latent\n",
      "POS is     :  84 === ADJ === adjective\n",
      "Dep is     :  402 === amod === adjectival modifier\n",
      "-----------------------\n",
      "Words is   :  force\n",
      "POS is     :  92 === NOUN === noun\n",
      "Dep is     :  404 === attr === attribute\n",
      "-----------------------\n",
      "Words is   :  within\n",
      "POS is     :  85 === ADP === adposition\n",
      "Dep is     :  443 === prep === prepositional modifier\n",
      "-----------------------\n",
      "Words is   :  every\n",
      "POS is     :  90 === DET === determiner\n",
      "Dep is     :  415 === det === determiner\n",
      "-----------------------\n",
      "Words is   :  person\n",
      "POS is     :  92 === NOUN === noun\n",
      "Dep is     :  439 === pobj === object of preposition\n",
      "-----------------------\n",
      "Words is   :  ,\n",
      "POS is     :  97 === PUNCT === punctuation\n",
      "Dep is     :  445 === punct === punctuation\n",
      "-----------------------\n",
      "Words is   :  it\n",
      "POS is     :  95 === PRON === pronoun\n",
      "Dep is     :  429 === nsubj === nominal subject\n",
      "-----------------------\n",
      "Words is   :  could\n",
      "POS is     :  87 === AUX === auxiliary\n",
      "Dep is     :  405 === aux === auxiliary\n",
      "-----------------------\n",
      "Words is   :  be\n",
      "POS is     :  87 === AUX === auxiliary\n",
      "Dep is     :  8206900633647566924 === ROOT === root\n",
      "-----------------------\n",
      "Words is   :  a\n",
      "POS is     :  90 === DET === determiner\n",
      "Dep is     :  415 === det === determiner\n",
      "-----------------------\n",
      "Words is   :  force\n",
      "POS is     :  92 === NOUN === noun\n",
      "Dep is     :  404 === attr === attribute\n",
      "-----------------------\n",
      "Words is   :  of\n",
      "POS is     :  85 === ADP === adposition\n",
      "Dep is     :  443 === prep === prepositional modifier\n",
      "-----------------------\n",
      "Words is   :  good\n",
      "POS is     :  84 === ADJ === adjective\n",
      "Dep is     :  439 === pobj === object of preposition\n",
      "-----------------------\n",
      "Words is   :  or\n",
      "POS is     :  89 === CCONJ === coordinating conjunction\n",
      "Dep is     :  407 === cc === coordinating conjunction\n",
      "-----------------------\n",
      "Words is   :  evil\n",
      "POS is     :  84 === ADJ === adjective\n",
      "Dep is     :  410 === conj === conjunct\n",
      "-----------------------\n",
      "Words is   :  ,\n",
      "POS is     :  97 === PUNCT === punctuation\n",
      "Dep is     :  445 === punct === punctuation\n",
      "-----------------------\n",
      "Words is   :  and\n",
      "POS is     :  89 === CCONJ === coordinating conjunction\n",
      "Dep is     :  407 === cc === coordinating conjunction\n",
      "-----------------------\n",
      "Words is   :  he\n",
      "POS is     :  95 === PRON === pronoun\n",
      "Dep is     :  429 === nsubj === nominal subject\n",
      "-----------------------\n",
      "Words is   :  can\n",
      "POS is     :  87 === AUX === auxiliary\n",
      "Dep is     :  405 === aux === auxiliary\n",
      "-----------------------\n",
      "Words is   :  control\n",
      "POS is     :  100 === VERB === verb\n",
      "Dep is     :  410 === conj === conjunct\n",
      "-----------------------\n",
      "Words is   :  it\n",
      "POS is     :  95 === PRON === pronoun\n",
      "Dep is     :  416 === dobj === direct object\n",
      "-----------------------\n",
      "Words is   :  according\n",
      "POS is     :  100 === VERB === verb\n",
      "Dep is     :  443 === prep === prepositional modifier\n",
      "-----------------------\n",
      "Words is   :  to\n",
      "POS is     :  85 === ADP === adposition\n",
      "Dep is     :  443 === prep === prepositional modifier\n",
      "-----------------------\n",
      "Words is   :  his\n",
      "POS is     :  95 === PRON === pronoun\n",
      "Dep is     :  440 === poss === possession modifier\n",
      "-----------------------\n",
      "Words is   :  will\n",
      "POS is     :  92 === NOUN === noun\n",
      "Dep is     :  439 === pobj === object of preposition\n",
      "-----------------------\n",
      "Words is   :  ,\n",
      "POS is     :  97 === PUNCT === punctuation\n",
      "Dep is     :  445 === punct === punctuation\n",
      "-----------------------\n",
      "Words is   :  and\n",
      "POS is     :  89 === CCONJ === coordinating conjunction\n",
      "Dep is     :  407 === cc === coordinating conjunction\n",
      "-----------------------\n",
      "Words is   :  this\n",
      "POS is     :  95 === PRON === pronoun\n",
      "Dep is     :  429 === nsubj === nominal subject\n",
      "-----------------------\n",
      "Words is   :  is\n",
      "POS is     :  87 === AUX === auxiliary\n",
      "Dep is     :  410 === conj === conjunct\n",
      "-----------------------\n",
      "Words is   :  evidence\n",
      "POS is     :  92 === NOUN === noun\n",
      "Dep is     :  404 === attr === attribute\n",
      "-----------------------\n",
      "Words is   :  that\n",
      "POS is     :  98 === SCONJ === subordinating conjunction\n",
      "Dep is     :  423 === mark === marker\n",
      "-----------------------\n",
      "Words is   :  a\n",
      "POS is     :  90 === DET === determiner\n",
      "Dep is     :  415 === det === determiner\n",
      "-----------------------\n",
      "Words is   :  person\n",
      "POS is     :  92 === NOUN === noun\n",
      "Dep is     :  429 === nsubj === nominal subject\n",
      "-----------------------\n",
      "Words is   :  has\n",
      "POS is     :  87 === AUX === auxiliary\n",
      "Dep is     :  451 === acl === clausal modifier of noun (adjectival clause)\n",
      "-----------------------\n",
      "Words is   :  a\n",
      "POS is     :  90 === DET === determiner\n",
      "Dep is     :  415 === det === determiner\n",
      "-----------------------\n",
      "Words is   :  choice\n",
      "POS is     :  92 === NOUN === noun\n",
      "Dep is     :  416 === dobj === direct object\n",
      "-----------------------\n",
      "Words is   :  .\n",
      "POS is     :  97 === PUNCT === punctuation\n",
      "Dep is     :  445 === punct === punctuation\n",
      "-----------------------\n"
     ]
    }
   ],
   "source": [
    "for token in Pos1:\n",
    "    print('Words is   : ' , token.text)\n",
    "    print('POS is     : ' , token.pos ,'===',token.pos_  , '===', spacy.explain(token.pos_))\n",
    "    print('Dep is     : ' , token.dep , '===',token.dep_, '===', spacy.explain(token.dep_))\n",
    "    print('-----------------------')"
   ]
  },
  {
   "cell_type": "code",
   "execution_count": 9,
   "id": "d0662e7a-b9a3-4d81-a099-813bf5a874e2",
   "metadata": {
    "collapsed": true,
    "jupyter": {
     "outputs_hidden": true
    }
   },
   "outputs": [
    {
     "name": "stdout",
     "output_type": "stream",
     "text": [
      "Words is   :  داخل\n",
      "POS is     :  96 === PROPN === proper noun\n",
      "Dep is     :  7037928807040764755 === compound === compound\n",
      "-----------------------\n",
      "Words is   :  كل\n",
      "POS is     :  96 === PROPN === proper noun\n",
      "Dep is     :  429 === nsubj === nominal subject\n",
      "-----------------------\n",
      "Words is   :  شخص\n",
      "POS is     :  96 === PROPN === proper noun\n",
      "Dep is     :  7037928807040764755 === compound === compound\n",
      "-----------------------\n",
      "Words is   :  قوة\n",
      "POS is     :  96 === PROPN === proper noun\n",
      "Dep is     :  7037928807040764755 === compound === compound\n",
      "-----------------------\n",
      "Words is   :  كامنة\n",
      "POS is     :  96 === PROPN === proper noun\n",
      "Dep is     :  8206900633647566924 === ROOT === root\n",
      "-----------------------\n",
      "Words is   :  .\n",
      "POS is     :  97 === PUNCT === punctuation\n",
      "Dep is     :  445 === punct === punctuation\n",
      "-----------------------\n",
      "Words is   :  من\n",
      "POS is     :  96 === PROPN === proper noun\n",
      "Dep is     :  429 === nsubj === nominal subject\n",
      "-----------------------\n",
      "Words is   :  الممكن\n",
      "POS is     :  96 === PROPN === proper noun\n",
      "Dep is     :  8206900633647566924 === ROOT === root\n",
      "-----------------------\n",
      "Words is   :  ان\n",
      "POS is     :  86 === ADV === adverb\n",
      "Dep is     :  421 === intj === interjection\n",
      "-----------------------\n",
      "Words is   :  تكون\n",
      "POS is     :  100 === VERB === verb\n",
      "Dep is     :  399 === advcl === adverbial clause modifier\n",
      "-----------------------\n",
      "Words is   :  قوة\n",
      "POS is     :  91 === INTJ === interjection\n",
      "Dep is     :  8206900633647566924 === ROOT === root\n",
      "-----------------------\n",
      "Words is   :  خير\n",
      "POS is     :  96 === PROPN === proper noun\n",
      "Dep is     :  429 === nsubj === nominal subject\n",
      "-----------------------\n",
      "Words is   :  أو\n",
      "POS is     :  89 === CCONJ === coordinating conjunction\n",
      "Dep is     :  407 === cc === coordinating conjunction\n",
      "-----------------------\n",
      "Words is   :  شر.كما\n",
      "POS is     :  100 === VERB === verb\n",
      "Dep is     :  8206900633647566924 === ROOT === root\n",
      "-----------------------\n",
      "Words is   :  أنه\n",
      "POS is     :  96 === PROPN === proper noun\n",
      "Dep is     :  426 === nmod === modifier of nominal\n",
      "-----------------------\n",
      "Words is   :  يستطيع\n",
      "POS is     :  84 === ADJ === adjective\n",
      "Dep is     :  402 === amod === adjectival modifier\n",
      "-----------------------\n",
      "Words is   :  التحكم\n",
      "POS is     :  92 === NOUN === noun\n",
      "Dep is     :  416 === dobj === direct object\n",
      "-----------------------\n",
      "Words is   :  بها\n",
      "POS is     :  90 === DET === determiner\n",
      "Dep is     :  415 === det === determiner\n",
      "-----------------------\n",
      "Words is   :  حسب\n",
      "POS is     :  92 === NOUN === noun\n",
      "Dep is     :  7037928807040764755 === compound === compound\n",
      "-----------------------\n",
      "Words is   :  إرادته\n",
      "POS is     :  96 === PROPN === proper noun\n",
      "Dep is     :  7037928807040764755 === compound === compound\n",
      "-----------------------\n",
      "Words is   :  وهذا\n",
      "POS is     :  96 === PROPN === proper noun\n",
      "Dep is     :  7037928807040764755 === compound === compound\n",
      "-----------------------\n",
      "Words is   :  دليل\n",
      "POS is     :  96 === PROPN === proper noun\n",
      "Dep is     :  403 === appos === appositional modifier\n",
      "-----------------------\n",
      "Words is   :  على\n",
      "POS is     :  96 === PROPN === proper noun\n",
      "Dep is     :  445 === punct === punctuation\n",
      "-----------------------\n",
      "Words is   :  ان\n",
      "POS is     :  96 === PROPN === proper noun\n",
      "Dep is     :  400 === advmod === adverbial modifier\n",
      "-----------------------\n",
      "Words is   :  الإنسان\n",
      "POS is     :  92 === NOUN === noun\n",
      "Dep is     :  8206900633647566924 === ROOT === root\n",
      "-----------------------\n",
      "Words is   :  مُخير\n",
      "POS is     :  96 === PROPN === proper noun\n",
      "Dep is     :  416 === dobj === direct object\n",
      "-----------------------\n",
      "Words is   :  .\n",
      "POS is     :  97 === PUNCT === punctuation\n",
      "Dep is     :  445 === punct === punctuation\n",
      "-----------------------\n",
      "Words is   :  \n",
      "\n",
      "POS is     :  103 === SPACE === space\n",
      "Dep is     :  414 === dep === unclassified dependent\n",
      "-----------------------\n"
     ]
    }
   ],
   "source": [
    "for token in Pos2:\n",
    "    print('Words is   : ' , token.text)\n",
    "    print('POS is     : ' , token.pos ,'===',token.pos_  , '===', spacy.explain(token.pos_))\n",
    "    print('Dep is     : ' , token.dep , '===',token.dep_, '===', spacy.explain(token.dep_))\n",
    "    print('-----------------------')"
   ]
  },
  {
   "cell_type": "markdown",
   "id": "dab7a00c-aa4a-48b7-b23f-4ae9810680b4",
   "metadata": {
    "jp-MarkdownHeadingCollapsed": true
   },
   "source": [
    "### Another Examples"
   ]
  },
  {
   "cell_type": "code",
   "execution_count": 10,
   "id": "5a425aea-c408-4452-9e96-61508b86de11",
   "metadata": {},
   "outputs": [
    {
     "name": "stdout",
     "output_type": "stream",
     "text": [
      "Example1 :\n",
      "The Word : read\n",
      "The POS : VERB\n",
      "The Tag : VBP\n",
      "The Explaination Of The Tag : verb, non-3rd person singular present\n"
     ]
    }
   ],
   "source": [
    "Example1 =Pos('I read book now.')\n",
    "word1 = Example1[1] #read\n",
    "\n",
    "print(f'Example1 :\\nThe Word : {word1.text}\\nThe POS : {word1.pos_}\\nThe Tag : {word1.tag_}\\nThe Explaination Of The Tag : {spacy.explain(word1.tag_)}')"
   ]
  },
  {
   "cell_type": "code",
   "execution_count": 11,
   "id": "f159d192-7c57-4b0c-ad32-cc95d7be1821",
   "metadata": {},
   "outputs": [
    {
     "name": "stdout",
     "output_type": "stream",
     "text": [
      "Example2 :\n",
      "The Word : rode\n",
      "The POS : VERB\n",
      "The Tag : VBD\n",
      "The Explaination Of The Tag : verb, past tense\n"
     ]
    }
   ],
   "source": [
    "Example2 = Pos('I rode a book on NLP.')\n",
    "\n",
    "word2 = Example2[1] # rode\n",
    "\n",
    "print(f'Example2 :\\nThe Word : {word2.text}\\nThe POS : {word2.pos_}\\nThe Tag : {word2.tag_}\\nThe Explaination Of The Tag : {spacy.explain(word2.tag_)}')"
   ]
  },
  {
   "cell_type": "markdown",
   "id": "d9fd5698-deff-4886-ba39-2357b75f0b41",
   "metadata": {},
   "source": [
    "# Thanks"
   ]
  }
 ],
 "metadata": {
  "kernelspec": {
   "display_name": "Python 3 (ipykernel)",
   "language": "python",
   "name": "python3"
  },
  "language_info": {
   "codemirror_mode": {
    "name": "ipython",
    "version": 3
   },
   "file_extension": ".py",
   "mimetype": "text/x-python",
   "name": "python",
   "nbconvert_exporter": "python",
   "pygments_lexer": "ipython3",
   "version": "3.11.0"
  }
 },
 "nbformat": 4,
 "nbformat_minor": 5
}
