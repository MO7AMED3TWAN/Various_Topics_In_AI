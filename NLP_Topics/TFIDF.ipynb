{
 "cells": [
  {
   "cell_type": "code",
   "execution_count": 1,
   "metadata": {
    "ExecuteTime": {
     "end_time": "2023-11-11T15:06:33.564343800Z",
     "start_time": "2023-11-11T15:06:33.556140300Z"
    }
   },
   "outputs": [],
   "source": [
    "import pandas as pd\n",
    "from sklearn.feature_extraction.text import TfidfVectorizer\n",
    "import re"
   ]
  },
  {
   "cell_type": "code",
   "execution_count": 2,
   "metadata": {
    "ExecuteTime": {
     "end_time": "2023-11-11T15:06:33.572564100Z",
     "start_time": "2023-11-11T15:06:33.560206100Z"
    },
    "collapsed": false,
    "jupyter": {
     "outputs_hidden": false
    }
   },
   "outputs": [],
   "source": [
    "paragraph =  \"\"\"I have three visions for India. In 3000 years of our history, people from all over\n",
    "               the world have come and invaded us, captured our lands, conquered our minds.\n",
    "               From Alexander onwards, the Greeks, the Turks, the Moguls, the Portuguese, the British,\n",
    "               the French, the Dutch, all of them came and looted us, took over what was ours.\n",
    "               Yet we have not done this to any other nation. We have not conquered anyone.\n",
    "               We have not grabbed their land, their culture,\n",
    "               their history and tried to enforce our way of life on them.\n",
    "               Why? Because we respect the freedom of others.That is why my\n",
    "               first vision is that of freedom. I believe that India got its first vision of\n",
    "               this in 1857, when we started the War of Independence. It is this freedom that\n",
    "               we must protect and nurture and build on. If we are not free, no one will respect us.\n",
    "               My second vision for India’s development. For fifty years we have been a developing nation.\n",
    "               It is time we see ourselves as a developed nation. We are among the top 5 nations of the world\n",
    "               in terms of GDP. We have a 10 percent growth rate in most areas. Our poverty levels are falling.\n",
    "               Our achievements are being globally recognised today. Yet we lack the self-confidence to\n",
    "               see ourselves as a developed nation, self-reliant and self-assured. Isn’t this incorrect?\n",
    "               I have a third vision. India must stand up to the world. Because I believe that unless India\n",
    "               stands up to the world, no one will respect us. Only strength respects strength. We must be\n",
    "               strong not only as a military power but also as an economic power. Both must go hand-in-hand.\n",
    "               My good fortune was to have worked with three great minds. Dr. Vikram Sarabhai of the Dept. of\n",
    "               space, Professor Satish Dhawan, who succeeded him and Dr. Brahm Prakash, father of nuclear material.\n",
    "               I was lucky to have worked with all three of them closely and consider this the great opportunity of my life.\n",
    "               I see four milestones in my career\"\"\"\n",
    "topic = \"\"\"In the rich tapestry of our nation's history, spanning centuries of diverse cultures and influences, we find stories of resilience and innovation. Over the ages, civilizations from every corner of the globe have left their mark on our land, contributing to the mosaic of ideas that define us. From ancient trade routes connecting the Silk Road to the maritime explorations of the Age of Discovery, the world has woven its narrative into ours.\n",
    "\n",
    "Yet, in this intricate dance of civilizations, our ethos has been one of openness and inclusion. We haven't sought to dominate or impose our beliefs on others; instead, we have embraced diversity and learned from the wealth of experiences offered by different societies. This spirit of acceptance has been a guiding principle throughout our journey.\n",
    "\n",
    "Looking ahead, my vision for our nation is rooted in progress and collaboration. As we stand on the cusp of a new era, it's time to view ourselves not just as a nation in the making but as a force to be reckoned with on the global stage. We have the potential to shape the world, not just through our economic prowess but also by fostering a culture of innovation and compassion.\n",
    "\n",
    "In this pursuit, we must draw strength not only from military might but also from intellectual and creative endeavors. The fusion of knowledge and economic power will propel us towards a future where we lead with confidence and self-reliance. It's a journey that requires collaboration and collective efforts, much like the collaboration of great minds that has shaped my own career.\n",
    "\n",
    "I've been fortunate to collaborate with brilliant minds in my field — pioneers like Dr. Maya Patel in medical research, Professor Rajiv Sharma in environmental science, and Dr. Aisha Khan in artificial intelligence. Working alongside them has been a privilege, and I see these collaborations as milestones in my professional journey.\n",
    "\n",
    "As we embark on the next chapter of our story, let us uphold the values of unity, innovation, and global cooperation, creating a legacy that resonates through the annals of history.\n",
    "\"\"\""
   ]
  },
  {
   "cell_type": "code",
   "execution_count": 3,
   "metadata": {
    "ExecuteTime": {
     "end_time": "2023-11-11T15:06:33.580399800Z",
     "start_time": "2023-11-11T15:06:33.568866800Z"
    },
    "collapsed": false,
    "jupyter": {
     "outputs_hidden": false
    }
   },
   "outputs": [
    {
     "name": "stdout",
     "output_type": "stream",
     "text": [
      "['I', 'have', 'three', 'visions', 'for', 'India.', 'In', '3000', 'years', 'of', 'our', 'history,', 'people', 'from', 'all', 'over\\n', '', '', '', '', '', '', '', '', '', '', '', '', '', '', 'the', 'world', 'have', 'come', 'and', 'invaded', 'us,', 'captured', 'our', 'lands,', 'conquered', 'our', 'minds.\\n', '', '', '', '', '', '', '', '', '', '', '', '', '', '', 'From', 'Alexander', 'onwards,', 'the', 'Greeks,', 'the', 'Turks,', 'the', 'Moguls,', 'the', 'Portuguese,', 'the', 'British,\\n', '', '', '', '', '', '', '', '', '', '', '', '', '', '', 'the', 'French,', 'the', 'Dutch,', 'all', 'of', 'them', 'came', 'and', 'looted', 'us,', 'took', 'over', 'what', 'was', 'ours.\\n', '', '', '', '', '', '', '', '', '', '', '', '', '', '', 'Yet', 'we', 'have', 'not', 'done', 'this', 'to', 'any', 'other', 'nation.', 'We', 'have', 'not', 'conquered', 'anyone.\\n', '', '', '', '', '', '', '', '', '', '', '', '', '', '', 'We', 'have', 'not', 'grabbed', 'their', 'land,', 'their', 'culture,\\n', '', '', '', '', '', '', '', '', '', '', '', '', '', '', 'their', 'history', 'and', 'tried', 'to', 'enforce', 'our', 'way', 'of', 'life', 'on', 'them.\\n', '', '', '', '', '', '', '', '', '', '', '', '', '', '', 'Why?', 'Because', 'we', 'respect', 'the', 'freedom', 'of', 'others.That', 'is', 'why', 'my\\n', '', '', '', '', '', '', '', '', '', '', '', '', '', '', 'first', 'vision', 'is', 'that', 'of', 'freedom.', 'I', 'believe', 'that', 'India', 'got', 'its', 'first', 'vision', 'of\\n', '', '', '', '', '', '', '', '', '', '', '', '', '', '', 'this', 'in', '1857,', 'when', 'we', 'started', 'the', 'War', 'of', 'Independence.', 'It', 'is', 'this', 'freedom', 'that\\n', '', '', '', '', '', '', '', '', '', '', '', '', '', '', 'we', 'must', 'protect', 'and', 'nurture', 'and', 'build', 'on.', 'If', 'we', 'are', 'not', 'free,', 'no', 'one', 'will', 'respect', 'us.\\n', '', '', '', '', '', '', '', '', '', '', '', '', '', '', 'My', 'second', 'vision', 'for', 'India’s', 'development.', 'For', 'fifty', 'years', 'we', 'have', 'been', 'a', 'developing', 'nation.\\n', '', '', '', '', '', '', '', '', '', '', '', '', '', '', 'It', 'is', 'time', 'we', 'see', 'ourselves', 'as', 'a', 'developed', 'nation.', 'We', 'are', 'among', 'the', 'top', '5', 'nations', 'of', 'the', 'world\\n', '', '', '', '', '', '', '', '', '', '', '', '', '', '', 'in', 'terms', 'of', 'GDP.', 'We', 'have', 'a', '10', 'percent', 'growth', 'rate', 'in', 'most', 'areas.', 'Our', 'poverty', 'levels', 'are', 'falling.\\n', '', '', '', '', '', '', '', '', '', '', '', '', '', '', 'Our', 'achievements', 'are', 'being', 'globally', 'recognised', 'today.', 'Yet', 'we', 'lack', 'the', 'self-confidence', 'to\\n', '', '', '', '', '', '', '', '', '', '', '', '', '', '', 'see', 'ourselves', 'as', 'a', 'developed', 'nation,', 'self-reliant', 'and', 'self-assured.', 'Isn’t', 'this', 'incorrect?\\n', '', '', '', '', '', '', '', '', '', '', '', '', '', '', 'I', 'have', 'a', 'third', 'vision.', 'India', 'must', 'stand', 'up', 'to', 'the', 'world.', 'Because', 'I', 'believe', 'that', 'unless', 'India\\n', '', '', '', '', '', '', '', '', '', '', '', '', '', '', 'stands', 'up', 'to', 'the', 'world,', 'no', 'one', 'will', 'respect', 'us.', 'Only', 'strength', 'respects', 'strength.', 'We', 'must', 'be\\n', '', '', '', '', '', '', '', '', '', '', '', '', '', '', 'strong', 'not', 'only', 'as', 'a', 'military', 'power', 'but', 'also', 'as', 'an', 'economic', 'power.', 'Both', 'must', 'go', 'hand-in-hand.\\n', '', '', '', '', '', '', '', '', '', '', '', '', '', '', 'My', 'good', 'fortune', 'was', 'to', 'have', 'worked', 'with', 'three', 'great', 'minds.', 'Dr.', 'Vikram', 'Sarabhai', 'of', 'the', 'Dept.', 'of\\n', '', '', '', '', '', '', '', '', '', '', '', '', '', '', 'space,', 'Professor', 'Satish', 'Dhawan,', 'who', 'succeeded', 'him', 'and', 'Dr.', 'Brahm', 'Prakash,', 'father', 'of', 'nuclear', 'material.\\n', '', '', '', '', '', '', '', '', '', '', '', '', '', '', 'I', 'was', 'lucky', 'to', 'have', 'worked', 'with', 'all', 'three', 'of', 'them', 'closely', 'and', 'consider', 'this', 'the', 'great', 'opportunity', 'of', 'my', 'life.\\n', '', '', '', '', '', '', '', '', '', '', '', '', '', '', 'I', 'see', 'four', 'milestones', 'in', 'my', 'career']\n",
      "['In', 'the', 'rich', 'tapestry', 'of', 'our', \"nation's\", 'history,', 'spanning', 'centuries', 'of', 'diverse', 'cultures', 'and', 'influences,', 'we', 'find', 'stories', 'of', 'resilience', 'and', 'innovation.', 'Over', 'the', 'ages,', 'civilizations', 'from', 'every', 'corner', 'of', 'the', 'globe', 'have', 'left', 'their', 'mark', 'on', 'our', 'land,', 'contributing', 'to', 'the', 'mosaic', 'of', 'ideas', 'that', 'define', 'us.', 'From', 'ancient', 'trade', 'routes', 'connecting', 'the', 'Silk', 'Road', 'to', 'the', 'maritime', 'explorations', 'of', 'the', 'Age', 'of', 'Discovery,', 'the', 'world', 'has', 'woven', 'its', 'narrative', 'into', 'ours.\\n\\nYet,', 'in', 'this', 'intricate', 'dance', 'of', 'civilizations,', 'our', 'ethos', 'has', 'been', 'one', 'of', 'openness', 'and', 'inclusion.', 'We', \"haven't\", 'sought', 'to', 'dominate', 'or', 'impose', 'our', 'beliefs', 'on', 'others;', 'instead,', 'we', 'have', 'embraced', 'diversity', 'and', 'learned', 'from', 'the', 'wealth', 'of', 'experiences', 'offered', 'by', 'different', 'societies.', 'This', 'spirit', 'of', 'acceptance', 'has', 'been', 'a', 'guiding', 'principle', 'throughout', 'our', 'journey.\\n\\nLooking', 'ahead,', 'my', 'vision', 'for', 'our', 'nation', 'is', 'rooted', 'in', 'progress', 'and', 'collaboration.', 'As', 'we', 'stand', 'on', 'the', 'cusp', 'of', 'a', 'new', 'era,', \"it's\", 'time', 'to', 'view', 'ourselves', 'not', 'just', 'as', 'a', 'nation', 'in', 'the', 'making', 'but', 'as', 'a', 'force', 'to', 'be', 'reckoned', 'with', 'on', 'the', 'global', 'stage.', 'We', 'have', 'the', 'potential', 'to', 'shape', 'the', 'world,', 'not', 'just', 'through', 'our', 'economic', 'prowess', 'but', 'also', 'by', 'fostering', 'a', 'culture', 'of', 'innovation', 'and', 'compassion.\\n\\nIn', 'this', 'pursuit,', 'we', 'must', 'draw', 'strength', 'not', 'only', 'from', 'military', 'might', 'but', 'also', 'from', 'intellectual', 'and', 'creative', 'endeavors.', 'The', 'fusion', 'of', 'knowledge', 'and', 'economic', 'power', 'will', 'propel', 'us', 'towards', 'a', 'future', 'where', 'we', 'lead', 'with', 'confidence', 'and', 'self-reliance.', \"It's\", 'a', 'journey', 'that', 'requires', 'collaboration', 'and', 'collective', 'efforts,', 'much', 'like', 'the', 'collaboration', 'of', 'great', 'minds', 'that', 'has', 'shaped', 'my', 'own', \"career.\\n\\nI've\", 'been', 'fortunate', 'to', 'collaborate', 'with', 'brilliant', 'minds', 'in', 'my', 'field', '—', 'pioneers', 'like', 'Dr.', 'Maya', 'Patel', 'in', 'medical', 'research,', 'Professor', 'Rajiv', 'Sharma', 'in', 'environmental', 'science,', 'and', 'Dr.', 'Aisha', 'Khan', 'in', 'artificial', 'intelligence.', 'Working', 'alongside', 'them', 'has', 'been', 'a', 'privilege,', 'and', 'I', 'see', 'these', 'collaborations', 'as', 'milestones', 'in', 'my', 'professional', 'journey.\\n\\nAs', 'we', 'embark', 'on', 'the', 'next', 'chapter', 'of', 'our', 'story,', 'let', 'us', 'uphold', 'the', 'values', 'of', 'unity,', 'innovation,', 'and', 'global', 'cooperation,', 'creating', 'a', 'legacy', 'that', 'resonates', 'through', 'the', 'annals', 'of', 'history.\\n']\n"
     ]
    }
   ],
   "source": [
    "bagOfWordsA = paragraph.split(' ')\n",
    "bagOfWordsB = topic.split(' ')\n",
    "print(bagOfWordsA)\n",
    "print(bagOfWordsB)"
   ]
  },
  {
   "cell_type": "code",
   "execution_count": 287,
   "metadata": {
    "ExecuteTime": {
     "end_time": "2023-11-11T15:06:33.645140200Z",
     "start_time": "2023-11-11T15:06:33.574965500Z"
    },
    "collapsed": false,
    "jupyter": {
     "outputs_hidden": false
    }
   },
   "outputs": [
    {
     "name": "stdout",
     "output_type": "stream",
     "text": [
      "{'history.', 'others.That', 'started', 'wealth', 'efforts,', 'Vikram', 'shaped', 'let', 'recognised', 'new', 'story,', 'different', 'world.', 'captured', 'respects', 'creative', 'will', 'Why?', 'great', 'principle', 'Maya', 'years', 'science,', 'incorrect?', 'collaboration.', 'progress', 'resilience', 'worked', 'free,', 'connecting', 'be', 'must', 'this', 'from', 'force', 'people', 'ethos', '1857,', 'growth', 'any', \"it's\", 'centuries', 'when', 'protect', 'developed', 'ancient', 'creating', 'lands,', 'go', 'vision.', 'Dr.', 'others;', 'next', 'My', 'journey', 'Brahm', 'poverty', 'French,', '5', 'India.', 'beliefs', 'Age', 'Over', 'trade', \"haven't\", 'ourselves', 'into', 'learned', \"I've\", 'ages,', 'nation', 'Prakash,', 'journey.', 'rate', 'instead,', 'second', 'got', 'see', 'ours.', 'narrative', 'looted', 'culture', 'strength.', 'woven', 'visions', 'freedom', '3000', 'nuclear', 'came', 'ahead,', 'was', 'is', 'where', 'four', 'Yet', 'civilizations', 'minds', 'over', 'today.', 'succeeded', 'or', 'career', 'on.', 'In', 'nation,', 'every', 'Rajiv', 'Road', 'future', 'developing', 'world,', 'with', 'much', 'cooperation,', 'one', 'legacy', 'making', 'dominate', 'in', 'pioneers', 'opportunity', 'only', 'them', 'lead', 'civilizations,', 'societies.', 'fortunate', 'Only', 'self-reliant', 'maritime', 'inclusion.', 'and', 'fusion', 'that', 'diverse', 'find', 'self-confidence', 'are', 'propel', 'pursuit,', 'endeavors.', \"nation's\", 'From', 'come', 'self-reliance.', 'most', 'research,', 'Dept.', 'contributing', 'India’s', 'Dutch,', 'strength', 'power', 'mark', 'by', 'potential', 'Patel', 'time', 'environmental', '—', 'life.', 'history', 'good', 'closely', 'top', 'requires', 'Working', 'embraced', 'British,', 'space,', 'Moguls,', 'him', 'fifty', 'left', 'respect', 'spirit', 'era,', 'its', 'who', 'military', 'annals', 'Yet,', 'might', 'chapter', 'power.', 'Greeks,', 'innovation.', 'Sarabhai', 'Because', 'corner', 'why', '10', 'throughout', 'knowledge', 'but', 'Dhawan,', 'dance', 'us,', 'confidence', 'terms', 'percent', 'lucky', 'cusp', 'innovation,', 'third', 'Sharma', 'spanning', 'up', 'grabbed', 'fostering', 'for', 'way', 'experiences', 'done', 'ideas', 'own', 'has', 'first', 'Our', 'artificial', 'values', 'falling.', 'It', 'stage.', 'sought', 'innovation', 'as', 'As', 'mosaic', 'history,', 'material.', 'intelligence.', 'like', 'not', 'anyone.', 'Khan', 'through', 'Looking', 'also', 'Silk', 'This', 'medical', 'strong', 'influences,', 'Turks,', 'economic', 'us', 'Professor', 'stories', 'achievements', 'being', 'stands', 'shape', 'build', 'milestones', 'just', 'draw', 'invaded', 'routes', 'towards', 'tapestry', 'world', 'have', 'intellectual', 'rich', 'We', 'Portuguese,', 'a', 'compassion.', 'offered', 'acceptance', 'privilege,', 'professional', 'all', 'our', 'War', 'unity,', 'For', 'their', 'career.', 'Alexander', 'brilliant', 'globally', 'self-assured.', 'culture,', 'impose', 'collaborations', 'levels', 'nations', 'uphold', 'view', 'development.', 'reckoned', 'vision', 'Isn’t', 'conquered', 'guiding', 'If', 'been', 'India', 'we', 'fortune', 'field', 'took', 'these', 'global', 'globe', 'tried', \"It's\", 'GDP.', 'stand', 'life', 'The', 'to', 'lack', 'intricate', 'among', 'explorations', 'other', 'father', 'areas.', 'believe', 'three', 'them.', 'consider', 'freedom.', 'enforce', 'cultures', 'Discovery,', 'rooted', 'my', 'define', 'alongside', 'Both', 'minds.', 'what', 'diversity', 'no', 'prowess', 'onwards,', 'collaborate', 'hand-in-hand.', 'nurture', 'openness', 'unless', 'I', 'nation.', 'the', 'of', 'land,', 'collaboration', 'on', 'embark', 'an', 'collective', 'resonates', 'Aisha', 'us.', 'Satish', 'Independence.'}\n"
     ]
    }
   ],
   "source": [
    "bagOfWordsA = paragraph.split()\n",
    "bagOfWordsB = topic.split()\n",
    "\n",
    "uniqueWords = set(bagOfWordsA).union(set(bagOfWordsB))\n",
    "print(uniqueWords)\n"
   ]
  },
  {
   "cell_type": "code",
   "execution_count": 4,
   "metadata": {
    "ExecuteTime": {
     "end_time": "2023-11-11T15:06:33.646183700Z",
     "start_time": "2023-11-11T15:06:33.584125800Z"
    },
    "collapsed": false,
    "jupyter": {
     "outputs_hidden": false
    }
   },
   "outputs": [
    {
     "name": "stdout",
     "output_type": "stream",
     "text": [
      "I have three visions for India In  years of our history people from all over\n",
      "               the world have come and invaded us captured our lands conquered our minds\n",
      "               From Alexander onwards the Greeks the Turks the Moguls the Portuguese the British\n",
      "               the French the Dutch all of them came and looted us took over what was ours\n",
      "               Yet we have not done this to any other nation We have not conquered anyone\n",
      "               We have not grabbed their land their culture\n",
      "               their history and tried to enforce our way of life on them\n",
      "               Why Because we respect the freedom of othersThat is why my\n",
      "               first vision is that of freedom I believe that India got its first vision of\n",
      "               this in  when we started the War of Independence It is this freedom that\n",
      "               we must protect and nurture and build on If we are not free no one will respect us\n",
      "               My second vision for Indias development For fifty years we have been a developing nation\n",
      "               It is time we see ourselves as a developed nation We are among the top  nations of the world\n",
      "               in terms of GDP We have a  percent growth rate in most areas Our poverty levels are falling\n",
      "               Our achievements are being globally recognised today Yet we lack the selfconfidence to\n",
      "               see ourselves as a developed nation selfreliant and selfassured Isnt this incorrect\n",
      "               I have a third vision India must stand up to the world Because I believe that unless India\n",
      "               stands up to the world no one will respect us Only strength respects strength We must be\n",
      "               strong not only as a military power but also as an economic power Both must go handinhand\n",
      "               My good fortune was to have worked with three great minds Dr Vikram Sarabhai of the Dept of\n",
      "               space Professor Satish Dhawan who succeeded him and Dr Brahm Prakash father of nuclear material\n",
      "               I was lucky to have worked with all three of them closely and consider this the great opportunity of my life\n",
      "               I see four milestones in my career\n",
      "In the rich tapestry of our nations history spanning centuries of diverse cultures and influences we find stories of resilience and innovation Over the ages civilizations from every corner of the globe have left their mark on our land contributing to the mosaic of ideas that define us From ancient trade routes connecting the Silk Road to the maritime explorations of the Age of Discovery the world has woven its narrative into ours\n",
      "\n",
      "Yet in this intricate dance of civilizations our ethos has been one of openness and inclusion We havent sought to dominate or impose our beliefs on others instead we have embraced diversity and learned from the wealth of experiences offered by different societies This spirit of acceptance has been a guiding principle throughout our journey\n",
      "\n",
      "Looking ahead my vision for our nation is rooted in progress and collaboration As we stand on the cusp of a new era its time to view ourselves not just as a nation in the making but as a force to be reckoned with on the global stage We have the potential to shape the world not just through our economic prowess but also by fostering a culture of innovation and compassion\n",
      "\n",
      "In this pursuit we must draw strength not only from military might but also from intellectual and creative endeavors The fusion of knowledge and economic power will propel us towards a future where we lead with confidence and selfreliance Its a journey that requires collaboration and collective efforts much like the collaboration of great minds that has shaped my own career\n",
      "\n",
      "Ive been fortunate to collaborate with brilliant minds in my field  pioneers like Dr Maya Patel in medical research Professor Rajiv Sharma in environmental science and Dr Aisha Khan in artificial intelligence Working alongside them has been a privilege and I see these collaborations as milestones in my professional journey\n",
      "\n",
      "As we embark on the next chapter of our story let us uphold the values of unity innovation and global cooperation creating a legacy that resonates through the annals of history\n",
      "\n"
     ]
    }
   ],
   "source": [
    "cleaned_paragraph = re.sub(r'[^a-zA-Z\\s]', '', paragraph)\n",
    "words = cleaned_paragraph.lower().split()\n",
    "cleaned_topic = re.sub(r'[^a-zA-Z\\s]', '', topic)\n",
    "words = cleaned_topic.lower().split()\n",
    "print(cleaned_paragraph)\n",
    "print(cleaned_topic)"
   ]
  },
  {
   "cell_type": "code",
   "execution_count": 5,
   "metadata": {
    "ExecuteTime": {
     "end_time": "2023-11-11T15:06:33.646183700Z",
     "start_time": "2023-11-11T15:06:33.590091800Z"
    },
    "collapsed": false,
    "jupyter": {
     "outputs_hidden": false
    }
   },
   "outputs": [
    {
     "ename": "NameError",
     "evalue": "name 'uniqueWords' is not defined",
     "output_type": "error",
     "traceback": [
      "\u001b[1;31m---------------------------------------------------------------------------\u001b[0m",
      "\u001b[1;31mNameError\u001b[0m                                 Traceback (most recent call last)",
      "Cell \u001b[1;32mIn[5], line 2\u001b[0m\n\u001b[0;32m      1\u001b[0m \u001b[38;5;66;03m# Ensure all words in bagOfWordsA and bagOfWordsB are in uniqueWords set\u001b[39;00m\n\u001b[1;32m----> 2\u001b[0m bagOfWordsA \u001b[38;5;241m=\u001b[39m \u001b[43m[\u001b[49m\u001b[43mword\u001b[49m\u001b[43m \u001b[49m\u001b[38;5;28;43;01mfor\u001b[39;49;00m\u001b[43m \u001b[49m\u001b[43mword\u001b[49m\u001b[43m \u001b[49m\u001b[38;5;129;43;01min\u001b[39;49;00m\u001b[43m \u001b[49m\u001b[43mbagOfWordsA\u001b[49m\u001b[43m \u001b[49m\u001b[38;5;28;43;01mif\u001b[39;49;00m\u001b[43m \u001b[49m\u001b[43mword\u001b[49m\u001b[43m \u001b[49m\u001b[38;5;129;43;01min\u001b[39;49;00m\u001b[43m \u001b[49m\u001b[43muniqueWords\u001b[49m\u001b[43m]\u001b[49m\n\u001b[0;32m      3\u001b[0m bagOfWordsB \u001b[38;5;241m=\u001b[39m [word \u001b[38;5;28;01mfor\u001b[39;00m word \u001b[38;5;129;01min\u001b[39;00m bagOfWordsB \u001b[38;5;28;01mif\u001b[39;00m word \u001b[38;5;129;01min\u001b[39;00m uniqueWords]\n\u001b[0;32m      5\u001b[0m \u001b[38;5;66;03m# Initialize dictionaries\u001b[39;00m\n",
      "Cell \u001b[1;32mIn[5], line 2\u001b[0m, in \u001b[0;36m<listcomp>\u001b[1;34m(.0)\u001b[0m\n\u001b[0;32m      1\u001b[0m \u001b[38;5;66;03m# Ensure all words in bagOfWordsA and bagOfWordsB are in uniqueWords set\u001b[39;00m\n\u001b[1;32m----> 2\u001b[0m bagOfWordsA \u001b[38;5;241m=\u001b[39m [word \u001b[38;5;28;01mfor\u001b[39;00m word \u001b[38;5;129;01min\u001b[39;00m bagOfWordsA \u001b[38;5;28;01mif\u001b[39;00m word \u001b[38;5;129;01min\u001b[39;00m \u001b[43muniqueWords\u001b[49m]\n\u001b[0;32m      3\u001b[0m bagOfWordsB \u001b[38;5;241m=\u001b[39m [word \u001b[38;5;28;01mfor\u001b[39;00m word \u001b[38;5;129;01min\u001b[39;00m bagOfWordsB \u001b[38;5;28;01mif\u001b[39;00m word \u001b[38;5;129;01min\u001b[39;00m uniqueWords]\n\u001b[0;32m      5\u001b[0m \u001b[38;5;66;03m# Initialize dictionaries\u001b[39;00m\n",
      "\u001b[1;31mNameError\u001b[0m: name 'uniqueWords' is not defined"
     ]
    }
   ],
   "source": [
    "# Ensure all words in bagOfWordsA and bagOfWordsB are in uniqueWords set\n",
    "bagOfWordsA = [word for word in bagOfWordsA if word in uniqueWords]\n",
    "bagOfWordsB = [word for word in bagOfWordsB if word in uniqueWords]\n",
    "\n",
    "# Initialize dictionaries\n",
    "numOfWordsA = dict.fromkeys(uniqueWords, 0)\n",
    "numOfWordsB = dict.fromkeys(uniqueWords, 0)\n",
    "\n",
    "# Count word frequencies\n",
    "for word in bagOfWordsA:\n",
    "    numOfWordsA[word] += 1\n",
    "\n",
    "for word in bagOfWordsB:\n",
    "    numOfWordsB[word] += 1\n",
    "\n",
    "# Print results\n",
    "print(\"numOfWordsA:\")\n",
    "print(numOfWordsA)\n",
    "\n",
    "print(\"\\nnumOfWordsB:\")\n",
    "print(numOfWordsB)"
   ]
  },
  {
   "cell_type": "code",
   "execution_count": 297,
   "metadata": {
    "ExecuteTime": {
     "end_time": "2023-11-11T15:19:32.726269900Z",
     "start_time": "2023-11-11T15:19:32.719720100Z"
    },
    "collapsed": false,
    "jupyter": {
     "outputs_hidden": false
    }
   },
   "outputs": [],
   "source": [
    "#The number of times a word appears in a document divded by the total number of words in the document\n",
    "def computeTF(wordDict, bagOfWords):\n",
    "    tfDict = {} #create empty dictionry\n",
    "    bagOfWordsCount = len(bagOfWords) #return total number of words\n",
    "    for word, count in wordDict.items():\n",
    "        tfDict[word] = count / float(bagOfWordsCount)\n",
    "    return tfDict"
   ]
  },
  {
   "cell_type": "code",
   "execution_count": 291,
   "metadata": {
    "ExecuteTime": {
     "end_time": "2023-11-11T15:06:33.647178700Z",
     "start_time": "2023-11-11T15:06:33.604423Z"
    },
    "collapsed": false,
    "jupyter": {
     "outputs_hidden": false
    }
   },
   "outputs": [
    {
     "name": "stdout",
     "output_type": "stream",
     "text": [
      "{'history.': 0.0029154518950437317, 'others.That': 0.0, 'started': 0.0, 'wealth': 0.0029154518950437317, 'efforts,': 0.0029154518950437317, 'Vikram': 0.0, 'shaped': 0.0029154518950437317, 'let': 0.0029154518950437317, 'recognised': 0.0, 'new': 0.0029154518950437317, 'story,': 0.0029154518950437317, 'different': 0.0029154518950437317, 'world.': 0.0, 'captured': 0.0, 'respects': 0.0, 'creative': 0.0029154518950437317, 'will': 0.0029154518950437317, 'Why?': 0.0, 'great': 0.0029154518950437317, 'principle': 0.0029154518950437317, 'Maya': 0.0029154518950437317, 'years': 0.0, 'science,': 0.0029154518950437317, 'incorrect?': 0.0, 'collaboration.': 0.0029154518950437317, 'progress': 0.0029154518950437317, 'resilience': 0.0029154518950437317, 'worked': 0.0, 'free,': 0.0, 'connecting': 0.0029154518950437317, 'be': 0.0029154518950437317, 'must': 0.0029154518950437317, 'this': 0.0058309037900874635, 'from': 0.011661807580174927, 'force': 0.0029154518950437317, 'people': 0.0, 'ethos': 0.0029154518950437317, '1857,': 0.0, 'growth': 0.0, 'any': 0.0, \"it's\": 0.0029154518950437317, 'centuries': 0.0029154518950437317, 'when': 0.0, 'protect': 0.0, 'developed': 0.0, 'ancient': 0.0029154518950437317, 'creating': 0.0029154518950437317, 'lands,': 0.0, 'go': 0.0, 'vision.': 0.0, 'Dr.': 0.0058309037900874635, 'others;': 0.0029154518950437317, 'next': 0.0029154518950437317, 'My': 0.0, 'journey': 0.0029154518950437317, 'Brahm': 0.0, 'poverty': 0.0, 'French,': 0.0, '5': 0.0, 'India.': 0.0, 'beliefs': 0.0029154518950437317, 'Age': 0.0029154518950437317, 'Over': 0.0029154518950437317, 'trade': 0.0029154518950437317, \"haven't\": 0.0029154518950437317, 'ourselves': 0.0029154518950437317, 'into': 0.0029154518950437317, 'learned': 0.0029154518950437317, \"I've\": 0.0029154518950437317, 'ages,': 0.0029154518950437317, 'nation': 0.0058309037900874635, 'Prakash,': 0.0, 'journey.': 0.0058309037900874635, 'rate': 0.0, 'instead,': 0.0029154518950437317, 'second': 0.0, 'got': 0.0, 'see': 0.0029154518950437317, 'ours.': 0.0029154518950437317, 'narrative': 0.0029154518950437317, 'looted': 0.0, 'culture': 0.0029154518950437317, 'strength.': 0.0, 'woven': 0.0029154518950437317, 'visions': 0.0, 'freedom': 0.0, '3000': 0.0, 'nuclear': 0.0, 'came': 0.0, 'ahead,': 0.0029154518950437317, 'was': 0.0, 'is': 0.0029154518950437317, 'where': 0.0029154518950437317, 'four': 0.0, 'Yet': 0.0, 'civilizations': 0.0029154518950437317, 'minds': 0.0058309037900874635, 'over': 0.0, 'today.': 0.0, 'succeeded': 0.0, 'or': 0.0029154518950437317, 'career': 0.0, 'on.': 0.0, 'In': 0.0058309037900874635, 'nation,': 0.0, 'every': 0.0029154518950437317, 'Rajiv': 0.0029154518950437317, 'Road': 0.0029154518950437317, 'future': 0.0029154518950437317, 'developing': 0.0, 'world,': 0.0029154518950437317, 'with': 0.008746355685131196, 'much': 0.0029154518950437317, 'cooperation,': 0.0029154518950437317, 'one': 0.0029154518950437317, 'legacy': 0.0029154518950437317, 'making': 0.0029154518950437317, 'dominate': 0.0029154518950437317, 'in': 0.023323615160349854, 'pioneers': 0.0029154518950437317, 'opportunity': 0.0, 'only': 0.0029154518950437317, 'them': 0.0029154518950437317, 'lead': 0.0029154518950437317, 'civilizations,': 0.0029154518950437317, 'societies.': 0.0029154518950437317, 'fortunate': 0.0029154518950437317, 'Only': 0.0, 'self-reliant': 0.0, 'maritime': 0.0029154518950437317, 'inclusion.': 0.0029154518950437317, 'and': 0.037900874635568516, 'fusion': 0.0029154518950437317, 'that': 0.011661807580174927, 'diverse': 0.0029154518950437317, 'find': 0.0029154518950437317, 'self-confidence': 0.0, 'are': 0.0, 'propel': 0.0029154518950437317, 'pursuit,': 0.0029154518950437317, 'endeavors.': 0.0029154518950437317, \"nation's\": 0.0029154518950437317, 'From': 0.0029154518950437317, 'come': 0.0, 'self-reliance.': 0.0029154518950437317, 'most': 0.0, 'research,': 0.0029154518950437317, 'Dept.': 0.0, 'contributing': 0.0029154518950437317, 'India’s': 0.0, 'Dutch,': 0.0, 'strength': 0.0029154518950437317, 'power': 0.0029154518950437317, 'mark': 0.0029154518950437317, 'by': 0.0058309037900874635, 'potential': 0.0029154518950437317, 'Patel': 0.0029154518950437317, 'time': 0.0029154518950437317, 'environmental': 0.0029154518950437317, '—': 0.0029154518950437317, 'life.': 0.0, 'history': 0.0, 'good': 0.0, 'closely': 0.0, 'top': 0.0, 'requires': 0.0029154518950437317, 'Working': 0.0029154518950437317, 'embraced': 0.0029154518950437317, 'British,': 0.0, 'space,': 0.0, 'Moguls,': 0.0, 'him': 0.0, 'fifty': 0.0, 'left': 0.0029154518950437317, 'respect': 0.0, 'spirit': 0.0029154518950437317, 'era,': 0.0029154518950437317, 'its': 0.0029154518950437317, 'who': 0.0, 'military': 0.0029154518950437317, 'annals': 0.0029154518950437317, 'Yet,': 0.0029154518950437317, 'might': 0.0029154518950437317, 'chapter': 0.0029154518950437317, 'power.': 0.0, 'Greeks,': 0.0, 'innovation.': 0.0029154518950437317, 'Sarabhai': 0.0, 'Because': 0.0, 'corner': 0.0029154518950437317, 'why': 0.0, '10': 0.0, 'throughout': 0.0029154518950437317, 'knowledge': 0.0029154518950437317, 'but': 0.008746355685131196, 'Dhawan,': 0.0, 'dance': 0.0029154518950437317, 'us,': 0.0, 'confidence': 0.0029154518950437317, 'terms': 0.0, 'percent': 0.0, 'lucky': 0.0, 'cusp': 0.0029154518950437317, 'innovation,': 0.0029154518950437317, 'third': 0.0, 'Sharma': 0.0029154518950437317, 'spanning': 0.0029154518950437317, 'up': 0.0, 'grabbed': 0.0, 'fostering': 0.0029154518950437317, 'for': 0.0029154518950437317, 'way': 0.0, 'experiences': 0.0029154518950437317, 'done': 0.0, 'ideas': 0.0029154518950437317, 'own': 0.0029154518950437317, 'has': 0.014577259475218658, 'first': 0.0, 'Our': 0.0, 'artificial': 0.0029154518950437317, 'values': 0.0029154518950437317, 'falling.': 0.0, 'It': 0.0, 'stage.': 0.0029154518950437317, 'sought': 0.0029154518950437317, 'innovation': 0.0029154518950437317, 'as': 0.008746355685131196, 'As': 0.0058309037900874635, 'mosaic': 0.0029154518950437317, 'history,': 0.0029154518950437317, 'material.': 0.0, 'intelligence.': 0.0029154518950437317, 'like': 0.0058309037900874635, 'not': 0.008746355685131196, 'anyone.': 0.0, 'Khan': 0.0029154518950437317, 'through': 0.0058309037900874635, 'Looking': 0.0029154518950437317, 'also': 0.0058309037900874635, 'Silk': 0.0029154518950437317, 'This': 0.0029154518950437317, 'medical': 0.0029154518950437317, 'strong': 0.0, 'influences,': 0.0029154518950437317, 'Turks,': 0.0, 'economic': 0.0058309037900874635, 'us': 0.0058309037900874635, 'Professor': 0.0029154518950437317, 'stories': 0.0029154518950437317, 'achievements': 0.0, 'being': 0.0, 'stands': 0.0, 'shape': 0.0029154518950437317, 'build': 0.0, 'milestones': 0.0029154518950437317, 'just': 0.0058309037900874635, 'draw': 0.0029154518950437317, 'invaded': 0.0, 'routes': 0.0029154518950437317, 'towards': 0.0029154518950437317, 'tapestry': 0.0029154518950437317, 'world': 0.0029154518950437317, 'have': 0.008746355685131196, 'intellectual': 0.0029154518950437317, 'rich': 0.0029154518950437317, 'We': 0.0058309037900874635, 'Portuguese,': 0.0, 'a': 0.026239067055393587, 'compassion.': 0.0029154518950437317, 'offered': 0.0029154518950437317, 'acceptance': 0.0029154518950437317, 'privilege,': 0.0029154518950437317, 'professional': 0.0029154518950437317, 'all': 0.0, 'our': 0.023323615160349854, 'War': 0.0, 'unity,': 0.0029154518950437317, 'For': 0.0, 'their': 0.0029154518950437317, 'career.': 0.0029154518950437317, 'Alexander': 0.0, 'brilliant': 0.0029154518950437317, 'globally': 0.0, 'self-assured.': 0.0, 'culture,': 0.0, 'impose': 0.0029154518950437317, 'collaborations': 0.0029154518950437317, 'levels': 0.0, 'nations': 0.0, 'uphold': 0.0029154518950437317, 'view': 0.0029154518950437317, 'development.': 0.0, 'reckoned': 0.0029154518950437317, 'vision': 0.0029154518950437317, 'Isn’t': 0.0, 'conquered': 0.0, 'guiding': 0.0029154518950437317, 'If': 0.0, 'been': 0.011661807580174927, 'India': 0.0, 'we': 0.01749271137026239, 'fortune': 0.0, 'field': 0.0029154518950437317, 'took': 0.0, 'these': 0.0029154518950437317, 'global': 0.0058309037900874635, 'globe': 0.0029154518950437317, 'tried': 0.0, \"It's\": 0.0029154518950437317, 'GDP.': 0.0, 'stand': 0.0029154518950437317, 'life': 0.0, 'The': 0.0029154518950437317, 'to': 0.02040816326530612, 'lack': 0.0, 'intricate': 0.0029154518950437317, 'among': 0.0, 'explorations': 0.0029154518950437317, 'other': 0.0, 'father': 0.0, 'areas.': 0.0, 'believe': 0.0, 'three': 0.0, 'them.': 0.0, 'consider': 0.0, 'freedom.': 0.0, 'enforce': 0.0, 'cultures': 0.0029154518950437317, 'Discovery,': 0.0029154518950437317, 'rooted': 0.0029154518950437317, 'my': 0.011661807580174927, 'define': 0.0029154518950437317, 'alongside': 0.0029154518950437317, 'Both': 0.0, 'minds.': 0.0, 'what': 0.0, 'diversity': 0.0029154518950437317, 'no': 0.0, 'prowess': 0.0029154518950437317, 'onwards,': 0.0, 'collaborate': 0.0029154518950437317, 'hand-in-hand.': 0.0, 'nurture': 0.0, 'openness': 0.0029154518950437317, 'unless': 0.0, 'I': 0.0029154518950437317, 'nation.': 0.0, 'the': 0.052478134110787174, 'of': 0.052478134110787174, 'land,': 0.0029154518950437317, 'collaboration': 0.0058309037900874635, 'on': 0.014577259475218658, 'embark': 0.0029154518950437317, 'an': 0.0, 'collective': 0.0029154518950437317, 'resonates': 0.0029154518950437317, 'Aisha': 0.0029154518950437317, 'us.': 0.0029154518950437317, 'Satish': 0.0, 'Independence.': 0.0} {'history.': 0.0, 'others.That': 0.0029069767441860465, 'started': 0.0029069767441860465, 'wealth': 0.0, 'efforts,': 0.0, 'Vikram': 0.0029069767441860465, 'shaped': 0.0, 'let': 0.0, 'recognised': 0.0029069767441860465, 'new': 0.0, 'story,': 0.0, 'different': 0.0, 'world.': 0.0029069767441860465, 'captured': 0.0029069767441860465, 'respects': 0.0029069767441860465, 'creative': 0.0, 'will': 0.005813953488372093, 'Why?': 0.0029069767441860465, 'great': 0.005813953488372093, 'principle': 0.0, 'Maya': 0.0, 'years': 0.005813953488372093, 'science,': 0.0, 'incorrect?': 0.0029069767441860465, 'collaboration.': 0.0, 'progress': 0.0, 'resilience': 0.0, 'worked': 0.005813953488372093, 'free,': 0.0029069767441860465, 'connecting': 0.0, 'be': 0.0029069767441860465, 'must': 0.011627906976744186, 'this': 0.014534883720930232, 'from': 0.0029069767441860465, 'force': 0.0, 'people': 0.0029069767441860465, 'ethos': 0.0, '1857,': 0.0029069767441860465, 'growth': 0.0029069767441860465, 'any': 0.0029069767441860465, \"it's\": 0.0, 'centuries': 0.0, 'when': 0.0029069767441860465, 'protect': 0.0029069767441860465, 'developed': 0.005813953488372093, 'ancient': 0.0, 'creating': 0.0, 'lands,': 0.0029069767441860465, 'go': 0.0029069767441860465, 'vision.': 0.0029069767441860465, 'Dr.': 0.005813953488372093, 'others;': 0.0, 'next': 0.0, 'My': 0.005813953488372093, 'journey': 0.0, 'Brahm': 0.0029069767441860465, 'poverty': 0.0029069767441860465, 'French,': 0.0029069767441860465, '5': 0.0029069767441860465, 'India.': 0.0029069767441860465, 'beliefs': 0.0, 'Age': 0.0, 'Over': 0.0, 'trade': 0.0, \"haven't\": 0.0, 'ourselves': 0.005813953488372093, 'into': 0.0, 'learned': 0.0, \"I've\": 0.0, 'ages,': 0.0, 'nation': 0.0, 'Prakash,': 0.0029069767441860465, 'journey.': 0.0, 'rate': 0.0029069767441860465, 'instead,': 0.0, 'second': 0.0029069767441860465, 'got': 0.0029069767441860465, 'see': 0.00872093023255814, 'ours.': 0.0029069767441860465, 'narrative': 0.0, 'looted': 0.0029069767441860465, 'culture': 0.0, 'strength.': 0.0029069767441860465, 'woven': 0.0, 'visions': 0.0029069767441860465, 'freedom': 0.005813953488372093, '3000': 0.0029069767441860465, 'nuclear': 0.0029069767441860465, 'came': 0.0029069767441860465, 'ahead,': 0.0, 'was': 0.00872093023255814, 'is': 0.011627906976744186, 'where': 0.0, 'four': 0.0029069767441860465, 'Yet': 0.005813953488372093, 'civilizations': 0.0, 'minds': 0.0, 'over': 0.005813953488372093, 'today.': 0.0029069767441860465, 'succeeded': 0.0029069767441860465, 'or': 0.0, 'career': 0.0029069767441860465, 'on.': 0.0029069767441860465, 'In': 0.0029069767441860465, 'nation,': 0.0029069767441860465, 'every': 0.0, 'Rajiv': 0.0, 'Road': 0.0, 'future': 0.0, 'developing': 0.0029069767441860465, 'world,': 0.0029069767441860465, 'with': 0.005813953488372093, 'much': 0.0, 'cooperation,': 0.0, 'one': 0.005813953488372093, 'legacy': 0.0, 'making': 0.0, 'dominate': 0.0, 'in': 0.011627906976744186, 'pioneers': 0.0, 'opportunity': 0.0029069767441860465, 'only': 0.0029069767441860465, 'them': 0.005813953488372093, 'lead': 0.0, 'civilizations,': 0.0, 'societies.': 0.0, 'fortunate': 0.0, 'Only': 0.0029069767441860465, 'self-reliant': 0.0029069767441860465, 'maritime': 0.0, 'inclusion.': 0.0, 'and': 0.023255813953488372, 'fusion': 0.0, 'that': 0.011627906976744186, 'diverse': 0.0, 'find': 0.0, 'self-confidence': 0.0029069767441860465, 'are': 0.011627906976744186, 'propel': 0.0, 'pursuit,': 0.0, 'endeavors.': 0.0, \"nation's\": 0.0, 'From': 0.0029069767441860465, 'come': 0.0029069767441860465, 'self-reliance.': 0.0, 'most': 0.0029069767441860465, 'research,': 0.0, 'Dept.': 0.0029069767441860465, 'contributing': 0.0, 'India’s': 0.0029069767441860465, 'Dutch,': 0.0029069767441860465, 'strength': 0.0029069767441860465, 'power': 0.0029069767441860465, 'mark': 0.0, 'by': 0.0, 'potential': 0.0, 'Patel': 0.0, 'time': 0.0029069767441860465, 'environmental': 0.0, '—': 0.0, 'life.': 0.0029069767441860465, 'history': 0.0029069767441860465, 'good': 0.0029069767441860465, 'closely': 0.0029069767441860465, 'top': 0.0029069767441860465, 'requires': 0.0, 'Working': 0.0, 'embraced': 0.0, 'British,': 0.0029069767441860465, 'space,': 0.0029069767441860465, 'Moguls,': 0.0029069767441860465, 'him': 0.0029069767441860465, 'fifty': 0.0029069767441860465, 'left': 0.0, 'respect': 0.00872093023255814, 'spirit': 0.0, 'era,': 0.0, 'its': 0.0029069767441860465, 'who': 0.0029069767441860465, 'military': 0.0029069767441860465, 'annals': 0.0, 'Yet,': 0.0, 'might': 0.0, 'chapter': 0.0, 'power.': 0.0029069767441860465, 'Greeks,': 0.0029069767441860465, 'innovation.': 0.0, 'Sarabhai': 0.0029069767441860465, 'Because': 0.005813953488372093, 'corner': 0.0, 'why': 0.0029069767441860465, '10': 0.0029069767441860465, 'throughout': 0.0, 'knowledge': 0.0, 'but': 0.0029069767441860465, 'Dhawan,': 0.0029069767441860465, 'dance': 0.0, 'us,': 0.005813953488372093, 'confidence': 0.0, 'terms': 0.0029069767441860465, 'percent': 0.0029069767441860465, 'lucky': 0.0029069767441860465, 'cusp': 0.0, 'innovation,': 0.0, 'third': 0.0029069767441860465, 'Sharma': 0.0, 'spanning': 0.0, 'up': 0.005813953488372093, 'grabbed': 0.0029069767441860465, 'fostering': 0.0, 'for': 0.005813953488372093, 'way': 0.0029069767441860465, 'experiences': 0.0, 'done': 0.0029069767441860465, 'ideas': 0.0, 'own': 0.0, 'has': 0.0, 'first': 0.005813953488372093, 'Our': 0.005813953488372093, 'artificial': 0.0, 'values': 0.0, 'falling.': 0.0029069767441860465, 'It': 0.005813953488372093, 'stage.': 0.0, 'sought': 0.0, 'innovation': 0.0, 'as': 0.011627906976744186, 'As': 0.0, 'mosaic': 0.0, 'history,': 0.0029069767441860465, 'material.': 0.0029069767441860465, 'intelligence.': 0.0, 'like': 0.0, 'not': 0.014534883720930232, 'anyone.': 0.0029069767441860465, 'Khan': 0.0, 'through': 0.0, 'Looking': 0.0, 'also': 0.0029069767441860465, 'Silk': 0.0, 'This': 0.0, 'medical': 0.0, 'strong': 0.0029069767441860465, 'influences,': 0.0, 'Turks,': 0.0029069767441860465, 'economic': 0.0029069767441860465, 'us': 0.0, 'Professor': 0.0029069767441860465, 'stories': 0.0, 'achievements': 0.0029069767441860465, 'being': 0.0029069767441860465, 'stands': 0.0029069767441860465, 'shape': 0.0, 'build': 0.0029069767441860465, 'milestones': 0.0029069767441860465, 'just': 0.0, 'draw': 0.0, 'invaded': 0.0029069767441860465, 'routes': 0.0, 'towards': 0.0, 'tapestry': 0.0, 'world': 0.005813953488372093, 'have': 0.029069767441860465, 'intellectual': 0.0, 'rich': 0.0, 'We': 0.014534883720930232, 'Portuguese,': 0.0029069767441860465, 'a': 0.01744186046511628, 'compassion.': 0.0, 'offered': 0.0, 'acceptance': 0.0, 'privilege,': 0.0, 'professional': 0.0, 'all': 0.00872093023255814, 'our': 0.011627906976744186, 'War': 0.0029069767441860465, 'unity,': 0.0, 'For': 0.0029069767441860465, 'their': 0.00872093023255814, 'career.': 0.0, 'Alexander': 0.0029069767441860465, 'brilliant': 0.0, 'globally': 0.0029069767441860465, 'self-assured.': 0.0029069767441860465, 'culture,': 0.0029069767441860465, 'impose': 0.0, 'collaborations': 0.0, 'levels': 0.0029069767441860465, 'nations': 0.0029069767441860465, 'uphold': 0.0, 'view': 0.0, 'development.': 0.0029069767441860465, 'reckoned': 0.0, 'vision': 0.00872093023255814, 'Isn’t': 0.0029069767441860465, 'conquered': 0.005813953488372093, 'guiding': 0.0, 'If': 0.0029069767441860465, 'been': 0.0029069767441860465, 'India': 0.00872093023255814, 'we': 0.023255813953488372, 'fortune': 0.0029069767441860465, 'field': 0.0, 'took': 0.0029069767441860465, 'these': 0.0, 'global': 0.0, 'globe': 0.0, 'tried': 0.0029069767441860465, \"It's\": 0.0, 'GDP.': 0.0029069767441860465, 'stand': 0.0029069767441860465, 'life': 0.0029069767441860465, 'The': 0.0, 'to': 0.020348837209302327, 'lack': 0.0029069767441860465, 'intricate': 0.0, 'among': 0.0029069767441860465, 'explorations': 0.0, 'other': 0.0029069767441860465, 'father': 0.0029069767441860465, 'areas.': 0.0029069767441860465, 'believe': 0.005813953488372093, 'three': 0.00872093023255814, 'them.': 0.0029069767441860465, 'consider': 0.0029069767441860465, 'freedom.': 0.0029069767441860465, 'enforce': 0.0029069767441860465, 'cultures': 0.0, 'Discovery,': 0.0, 'rooted': 0.0, 'my': 0.00872093023255814, 'define': 0.0, 'alongside': 0.0, 'Both': 0.0029069767441860465, 'minds.': 0.005813953488372093, 'what': 0.0029069767441860465, 'diversity': 0.0, 'no': 0.005813953488372093, 'prowess': 0.0, 'onwards,': 0.0029069767441860465, 'collaborate': 0.0, 'hand-in-hand.': 0.0029069767441860465, 'nurture': 0.0029069767441860465, 'openness': 0.0, 'unless': 0.0029069767441860465, 'I': 0.01744186046511628, 'nation.': 0.00872093023255814, 'the': 0.04941860465116279, 'of': 0.040697674418604654, 'land,': 0.0029069767441860465, 'collaboration': 0.0, 'on': 0.0029069767441860465, 'embark': 0.0, 'an': 0.0029069767441860465, 'collective': 0.0, 'resonates': 0.0, 'Aisha': 0.0, 'us.': 0.005813953488372093, 'Satish': 0.0029069767441860465, 'Independence.': 0.0029069767441860465}\n"
     ]
    }
   ],
   "source": [
    "tfA = computeTF(numOfWordsA, bagOfWordsA)\n",
    "tfB = computeTF(numOfWordsB, bagOfWordsB)\n",
    "print(tfB,tfA)"
   ]
  },
  {
   "cell_type": "code",
   "execution_count": 292,
   "metadata": {
    "ExecuteTime": {
     "end_time": "2023-11-11T15:06:33.647178700Z",
     "start_time": "2023-11-11T15:06:33.613755100Z"
    },
    "collapsed": false,
    "jupyter": {
     "outputs_hidden": false
    }
   },
   "outputs": [],
   "source": [
    "def computeIDF(documents):\n",
    "    import math\n",
    "    N = len(documents)\n",
    "\n",
    "    idfDict = dict.fromkeys(documents[0].keys(), 0)\n",
    "    for document in documents:\n",
    "        for word, val in document.items():\n",
    "            if val > 0:\n",
    "                idfDict[word] += 1\n",
    "\n",
    "    for word, val in idfDict.items():\n",
    "        idfDict[word] = math.log(N / float(val))\n",
    "    return idfDict"
   ]
  },
  {
   "cell_type": "code",
   "execution_count": 293,
   "metadata": {
    "ExecuteTime": {
     "end_time": "2023-11-11T15:06:33.648283900Z",
     "start_time": "2023-11-11T15:06:33.618322100Z"
    },
    "collapsed": false,
    "jupyter": {
     "outputs_hidden": false
    }
   },
   "outputs": [],
   "source": [
    "idfs = computeIDF([numOfWordsA, numOfWordsB])\n"
   ]
  },
  {
   "cell_type": "code",
   "execution_count": 294,
   "metadata": {
    "ExecuteTime": {
     "end_time": "2023-11-11T15:06:33.648283900Z",
     "start_time": "2023-11-11T15:06:33.640756700Z"
    },
    "collapsed": false,
    "jupyter": {
     "outputs_hidden": false
    }
   },
   "outputs": [],
   "source": [
    "def computeTFIDF(tfBagOfWords, idfs):\n",
    "    tfidf = {}\n",
    "    for word, val in tfBagOfWords.items():\n",
    "        tfidf[word] = val * idfs[word]\n",
    "    return tfidf"
   ]
  },
  {
   "cell_type": "code",
   "execution_count": 295,
   "metadata": {
    "ExecuteTime": {
     "end_time": "2023-11-11T15:06:33.648283900Z",
     "start_time": "2023-11-11T15:06:33.641824100Z"
    },
    "collapsed": false,
    "jupyter": {
     "outputs_hidden": false
    }
   },
   "outputs": [
    {
     "name": "stdout",
     "output_type": "stream",
     "text": [
      "   history.  others.That   started    wealth  efforts,    Vikram    shaped  \\\n",
      "0  0.000000     0.002015  0.002015  0.000000  0.000000  0.002015  0.000000   \n",
      "1  0.002021     0.000000  0.000000  0.002021  0.002021  0.000000  0.002021   \n",
      "\n",
      "        let  recognised       new  ...  collaboration   on    embark  \\\n",
      "0  0.000000    0.002015  0.000000  ...       0.000000  0.0  0.000000   \n",
      "1  0.002021    0.000000  0.002021  ...       0.004042  0.0  0.002021   \n",
      "\n",
      "         an  collective  resonates     Aisha  us.    Satish  Independence.  \n",
      "0  0.002015    0.000000   0.000000  0.000000  0.0  0.002015       0.002015  \n",
      "1  0.000000    0.002021   0.002021  0.002021  0.0  0.000000       0.000000  \n",
      "\n",
      "[2 rows x 360 columns]\n"
     ]
    }
   ],
   "source": [
    "tfidfA = computeTFIDF(tfA, idfs)\n",
    "tfidfB = computeTFIDF(tfB, idfs)\n",
    "df = pd.DataFrame([tfidfA, tfidfB])\n",
    "print(df)"
   ]
  }
 ],
 "metadata": {
  "kernelspec": {
   "display_name": "Python 3 (ipykernel)",
   "language": "python",
   "name": "python3"
  },
  "language_info": {
   "codemirror_mode": {
    "name": "ipython",
    "version": 3
   },
   "file_extension": ".py",
   "mimetype": "text/x-python",
   "name": "python",
   "nbconvert_exporter": "python",
   "pygments_lexer": "ipython3",
   "version": "3.11.0"
  }
 },
 "nbformat": 4,
 "nbformat_minor": 4
}
