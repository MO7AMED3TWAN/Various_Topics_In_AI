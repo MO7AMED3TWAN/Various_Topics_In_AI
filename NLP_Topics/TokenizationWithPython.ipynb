{
 "cells": [
  {
   "cell_type": "markdown",
   "id": "ff114250-4831-423f-934c-34d1d19b20c6",
   "metadata": {
    "jp-MarkdownHeadingCollapsed": true
   },
   "source": [
    "# Tokenizer Via NLTK"
   ]
  },
  {
   "cell_type": "code",
   "execution_count": 1,
   "id": "32c64326-e654-4f7d-bc53-63c08d64f1bc",
   "metadata": {},
   "outputs": [],
   "source": [
    "from nltk.tokenize import word_tokenize, sent_tokenize"
   ]
  },
  {
   "cell_type": "markdown",
   "id": "79e95697-6793-409e-a5c7-3057078b844f",
   "metadata": {
    "jp-MarkdownHeadingCollapsed": true
   },
   "source": [
    "## Tokenizer Words"
   ]
  },
  {
   "cell_type": "code",
   "execution_count": 2,
   "id": "75af7533-d4f9-4429-b72a-2f254e77632b",
   "metadata": {},
   "outputs": [
    {
     "name": "stdout",
     "output_type": "stream",
     "text": [
      "['There', 'is', 'a', 'latent', 'force', 'within', 'every', 'person', '.', 'it', 'could', 'be', 'a', 'force', 'of', 'good', 'or', 'evil', '.', 'and', 'he', 'can', 'control', 'it', 'according', 'to', 'his', 'will', '.', 'and', 'this', 'is', 'evidence', 'that', 'a', 'person', 'has', 'a', 'choice', '.']\n",
      "------------------------------------------------------------\n",
      "['داخل', 'كل', 'شخص', 'قوة', 'كامنة', '.', 'من', 'الممكن', 'ان', 'تكون', 'قوة', 'خير', 'أو', 'شر.كما', 'أنه', 'يستطيع', 'التحكم', 'بها', 'حسب', 'إرادته', 'وهذا', 'دليل', 'على', 'ان', 'الإنسان', 'مُخير', '.']\n"
     ]
    }
   ],
   "source": [
    "text1  ='''There is a latent force within every person. it could be a force of good or evil. and he can control it according to his will. and this is evidence that a person has a choice.'''\n",
    "\n",
    "text11 ='''داخل كل شخص قوة كامنة. من الممكن ان تكون قوة خير أو شر.كما أنه يستطيع التحكم بها حسب إرادته وهذا دليل على ان الإنسان مُخير.\n",
    "'''\n",
    "\n",
    "tokens1 = word_tokenize(text1)\n",
    "tokens11= word_tokenize(text11)\n",
    "                       \n",
    "print(tokens1)\n",
    "print(\"------------------------------------------------------------\")\n",
    "print(tokens11)"
   ]
  },
  {
   "cell_type": "markdown",
   "id": "e9832cf1-b0f7-4ee2-a309-e9a2bc2e52b3",
   "metadata": {
    "jp-MarkdownHeadingCollapsed": true
   },
   "source": [
    "## Tokenizer Sentences"
   ]
  },
  {
   "cell_type": "code",
   "execution_count": 3,
   "id": "b441d6a2-0632-4631-8bb2-1af532f2806c",
   "metadata": {},
   "outputs": [
    {
     "name": "stdout",
     "output_type": "stream",
     "text": [
      "There is a latent force within every person.\n",
      "----------------------\n",
      "it could be a force of good or evil.\n",
      "----------------------\n",
      "and he can control it according to his will.\n",
      "----------------------\n",
      "and this is evidence that a person has a choice.\n",
      "----------------------\n",
      "-------------DONE--------------\n",
      "داخل كل شخص قوة كامنة.\n",
      "----------------------\n",
      "من الممكن ان تكون قوة خير أو شر.كما أنه يستطيع التحكم بها حسب إرادته وهذا دليل على ان الإنسان مُخير.\n",
      "----------------------\n"
     ]
    }
   ],
   "source": [
    "text1  ='''There is a latent force within every person. it could be a force of good or evil. and he can control it according to his will. and this is evidence that a person has a choice.'''\n",
    "\n",
    "text11 ='''داخل كل شخص قوة كامنة. من الممكن ان تكون قوة خير أو شر.كما أنه يستطيع التحكم بها حسب إرادته وهذا دليل على ان الإنسان مُخير.\n",
    "'''\n",
    "\n",
    "Sentences1 =sent_tokenize(text1)\n",
    "Sentences11 =sent_tokenize(text11)\n",
    "\n",
    "for Sentence in Sentences1 :\n",
    "    print(Sentence)\n",
    "    print('----------------------')\n",
    "\n",
    "print(\"-------------DONE--------------\")\n",
    "\n",
    "for Sentence in Sentences11 :\n",
    "    print(Sentence)\n",
    "    print('----------------------')"
   ]
  },
  {
   "cell_type": "markdown",
   "id": "d3fd15d1-9229-4e32-9fff-3b6b188179d5",
   "metadata": {
    "jp-MarkdownHeadingCollapsed": true
   },
   "source": [
    "# Tokenizer Via Spacy"
   ]
  },
  {
   "cell_type": "code",
   "execution_count": 4,
   "id": "cdf7d667-eea7-46fb-b205-4de7db12ebad",
   "metadata": {
    "collapsed": true,
    "jupyter": {
     "outputs_hidden": true
    }
   },
   "outputs": [
    {
     "name": "stderr",
     "output_type": "stream",
     "text": [
      "C:\\Users\\MoHaMeD\\AppData\\Local\\Programs\\Python\\Python311\\Lib\\site-packages\\spacy\\util.py:887: UserWarning: [W095] Model 'en_core_web_sm' (3.4.1) was trained with spaCy v3.4 and may not be 100% compatible with the current version (3.5.1). If you see errors or degraded performance, download a newer compatible model or retrain your custom model with the current spaCy version. For more details and available updates, run: python -m spacy validate\n",
      "  warnings.warn(warn_msg)\n"
     ]
    }
   ],
   "source": [
    "import spacy\n",
    "Token = spacy.load('en_core_web_sm')"
   ]
  },
  {
   "cell_type": "markdown",
   "id": "37ab0550-39a3-4dbb-b972-bfdd9d82a033",
   "metadata": {
    "jp-MarkdownHeadingCollapsed": true
   },
   "source": [
    "## Tokenizer Words"
   ]
  },
  {
   "cell_type": "code",
   "execution_count": 5,
   "id": "c6ad390a-a5f0-4a48-9a58-d374b3e374b6",
   "metadata": {
    "collapsed": true,
    "jupyter": {
     "outputs_hidden": true
    },
    "scrolled": true
   },
   "outputs": [
    {
     "name": "stdout",
     "output_type": "stream",
     "text": [
      "--1--\n",
      "The Token : There\n",
      "The Shape Of The Token   : Xxxxx\n",
      "Is The Token Is Alphapet : True\n",
      "--2--\n",
      "The Token : is\n",
      "The Shape Of The Token   : xx\n",
      "Is The Token Is Alphapet : True\n",
      "--3--\n",
      "The Token : a\n",
      "The Shape Of The Token   : x\n",
      "Is The Token Is Alphapet : True\n",
      "--4--\n",
      "The Token : latent\n",
      "The Shape Of The Token   : xxxx\n",
      "Is The Token Is Alphapet : True\n",
      "--5--\n",
      "The Token : force\n",
      "The Shape Of The Token   : xxxx\n",
      "Is The Token Is Alphapet : True\n",
      "--6--\n",
      "The Token : within\n",
      "The Shape Of The Token   : xxxx\n",
      "Is The Token Is Alphapet : True\n",
      "--7--\n",
      "The Token : every\n",
      "The Shape Of The Token   : xxxx\n",
      "Is The Token Is Alphapet : True\n",
      "--8--\n",
      "The Token : person\n",
      "The Shape Of The Token   : xxxx\n",
      "Is The Token Is Alphapet : True\n",
      "--9--\n",
      "The Token : ,\n",
      "The Shape Of The Token   : ,\n",
      "Is The Token Is Alphapet : False\n",
      "--10--\n",
      "The Token : it\n",
      "The Shape Of The Token   : xx\n",
      "Is The Token Is Alphapet : True\n",
      "--11--\n",
      "The Token : could\n",
      "The Shape Of The Token   : xxxx\n",
      "Is The Token Is Alphapet : True\n",
      "--12--\n",
      "The Token : be\n",
      "The Shape Of The Token   : xx\n",
      "Is The Token Is Alphapet : True\n",
      "--13--\n",
      "The Token : a\n",
      "The Shape Of The Token   : x\n",
      "Is The Token Is Alphapet : True\n",
      "--14--\n",
      "The Token : force\n",
      "The Shape Of The Token   : xxxx\n",
      "Is The Token Is Alphapet : True\n",
      "--15--\n",
      "The Token : of\n",
      "The Shape Of The Token   : xx\n",
      "Is The Token Is Alphapet : True\n",
      "--16--\n",
      "The Token : good\n",
      "The Shape Of The Token   : xxxx\n",
      "Is The Token Is Alphapet : True\n",
      "--17--\n",
      "The Token : or\n",
      "The Shape Of The Token   : xx\n",
      "Is The Token Is Alphapet : True\n",
      "--18--\n",
      "The Token : evil\n",
      "The Shape Of The Token   : xxxx\n",
      "Is The Token Is Alphapet : True\n",
      "--19--\n",
      "The Token : ,\n",
      "The Shape Of The Token   : ,\n",
      "Is The Token Is Alphapet : False\n",
      "--20--\n",
      "The Token : and\n",
      "The Shape Of The Token   : xxx\n",
      "Is The Token Is Alphapet : True\n",
      "--21--\n",
      "The Token : he\n",
      "The Shape Of The Token   : xx\n",
      "Is The Token Is Alphapet : True\n",
      "--22--\n",
      "The Token : can\n",
      "The Shape Of The Token   : xxx\n",
      "Is The Token Is Alphapet : True\n",
      "--23--\n",
      "The Token : control\n",
      "The Shape Of The Token   : xxxx\n",
      "Is The Token Is Alphapet : True\n",
      "--24--\n",
      "The Token : it\n",
      "The Shape Of The Token   : xx\n",
      "Is The Token Is Alphapet : True\n",
      "--25--\n",
      "The Token : according\n",
      "The Shape Of The Token   : xxxx\n",
      "Is The Token Is Alphapet : True\n",
      "--26--\n",
      "The Token : to\n",
      "The Shape Of The Token   : xx\n",
      "Is The Token Is Alphapet : True\n",
      "--27--\n",
      "The Token : his\n",
      "The Shape Of The Token   : xxx\n",
      "Is The Token Is Alphapet : True\n",
      "--28--\n",
      "The Token : will\n",
      "The Shape Of The Token   : xxxx\n",
      "Is The Token Is Alphapet : True\n",
      "--29--\n",
      "The Token : ,\n",
      "The Shape Of The Token   : ,\n",
      "Is The Token Is Alphapet : False\n",
      "--30--\n",
      "The Token : and\n",
      "The Shape Of The Token   : xxx\n",
      "Is The Token Is Alphapet : True\n",
      "--31--\n",
      "The Token : this\n",
      "The Shape Of The Token   : xxxx\n",
      "Is The Token Is Alphapet : True\n",
      "--32--\n",
      "The Token : is\n",
      "The Shape Of The Token   : xx\n",
      "Is The Token Is Alphapet : True\n",
      "--33--\n",
      "The Token : evidence\n",
      "The Shape Of The Token   : xxxx\n",
      "Is The Token Is Alphapet : True\n",
      "--34--\n",
      "The Token : that\n",
      "The Shape Of The Token   : xxxx\n",
      "Is The Token Is Alphapet : True\n",
      "--35--\n",
      "The Token : a\n",
      "The Shape Of The Token   : x\n",
      "Is The Token Is Alphapet : True\n",
      "--36--\n",
      "The Token : person\n",
      "The Shape Of The Token   : xxxx\n",
      "Is The Token Is Alphapet : True\n",
      "--37--\n",
      "The Token : has\n",
      "The Shape Of The Token   : xxx\n",
      "Is The Token Is Alphapet : True\n",
      "--38--\n",
      "The Token : a\n",
      "The Shape Of The Token   : x\n",
      "Is The Token Is Alphapet : True\n",
      "--39--\n",
      "The Token : choice\n",
      "The Shape Of The Token   : xxxx\n",
      "Is The Token Is Alphapet : True\n",
      "--40--\n",
      "The Token : .\n",
      "The Shape Of The Token   : .\n",
      "Is The Token Is Alphapet : False\n",
      "--41--\n",
      "The Token : داخل\n",
      "The Shape Of The Token   : xxxx\n",
      "Is The Token Is Alphapet : True\n",
      "--42--\n",
      "The Token : كل\n",
      "The Shape Of The Token   : xx\n",
      "Is The Token Is Alphapet : True\n",
      "--43--\n",
      "The Token : شخص\n",
      "The Shape Of The Token   : xxx\n",
      "Is The Token Is Alphapet : True\n",
      "--44--\n",
      "The Token : قوة\n",
      "The Shape Of The Token   : xxx\n",
      "Is The Token Is Alphapet : True\n",
      "--45--\n",
      "The Token : كامنة\n",
      "The Shape Of The Token   : xxxx\n",
      "Is The Token Is Alphapet : True\n",
      "--46--\n",
      "The Token : ،\n",
      "The Shape Of The Token   : ،\n",
      "Is The Token Is Alphapet : False\n",
      "--47--\n",
      "The Token : من\n",
      "The Shape Of The Token   : xx\n",
      "Is The Token Is Alphapet : True\n",
      "--48--\n",
      "The Token : الممكن\n",
      "The Shape Of The Token   : xxxx\n",
      "Is The Token Is Alphapet : True\n",
      "--49--\n",
      "The Token : ان\n",
      "The Shape Of The Token   : xx\n",
      "Is The Token Is Alphapet : True\n",
      "--50--\n",
      "The Token : تكون\n",
      "The Shape Of The Token   : xxxx\n",
      "Is The Token Is Alphapet : True\n",
      "--51--\n",
      "The Token : قوة\n",
      "The Shape Of The Token   : xxx\n",
      "Is The Token Is Alphapet : True\n",
      "--52--\n",
      "The Token : خير\n",
      "The Shape Of The Token   : xxx\n",
      "Is The Token Is Alphapet : True\n",
      "--53--\n",
      "The Token : أو\n",
      "The Shape Of The Token   : xx\n",
      "Is The Token Is Alphapet : True\n",
      "--54--\n",
      "The Token : شر،كما\n",
      "The Shape Of The Token   : xx،xxx\n",
      "Is The Token Is Alphapet : False\n",
      "--55--\n",
      "The Token : أنه\n",
      "The Shape Of The Token   : xxx\n",
      "Is The Token Is Alphapet : True\n",
      "--56--\n",
      "The Token : يستطيع\n",
      "The Shape Of The Token   : xxxx\n",
      "Is The Token Is Alphapet : True\n",
      "--57--\n",
      "The Token : التحكم\n",
      "The Shape Of The Token   : xxxx\n",
      "Is The Token Is Alphapet : True\n",
      "--58--\n",
      "The Token : بها\n",
      "The Shape Of The Token   : xxx\n",
      "Is The Token Is Alphapet : True\n",
      "--59--\n",
      "The Token : حسب\n",
      "The Shape Of The Token   : xxx\n",
      "Is The Token Is Alphapet : True\n",
      "--60--\n",
      "The Token : إرادته\n",
      "The Shape Of The Token   : xxxx\n",
      "Is The Token Is Alphapet : True\n",
      "--61--\n",
      "The Token : وهذا\n",
      "The Shape Of The Token   : xxxx\n",
      "Is The Token Is Alphapet : True\n",
      "--62--\n",
      "The Token : دليل\n",
      "The Shape Of The Token   : xxxx\n",
      "Is The Token Is Alphapet : True\n",
      "--63--\n",
      "The Token : على\n",
      "The Shape Of The Token   : xxx\n",
      "Is The Token Is Alphapet : True\n",
      "--64--\n",
      "The Token : ان\n",
      "The Shape Of The Token   : xx\n",
      "Is The Token Is Alphapet : True\n",
      "--65--\n",
      "The Token : الإنسان\n",
      "The Shape Of The Token   : xxxx\n",
      "Is The Token Is Alphapet : True\n",
      "--66--\n",
      "The Token : مُخير\n",
      "The Shape Of The Token   : xُxxx\n",
      "Is The Token Is Alphapet : False\n",
      "--67--\n",
      "The Token : .\n",
      "The Shape Of The Token   : .\n",
      "Is The Token Is Alphapet : False\n",
      "--68--\n",
      "The Token : \n",
      "\n",
      "The Shape Of The Token   : \n",
      "\n",
      "Is The Token Is Alphapet : False\n"
     ]
    }
   ],
   "source": [
    "tokens2 = Token('''There is a latent force within every person, it could be a force of good or evil, and he can control it according to his will, and this is evidence that a person has a choice.''')\n",
    "\n",
    "tokens22 = Token('''داخل كل شخص قوة كامنة، من الممكن ان تكون قوة خير أو شر،كما أنه يستطيع التحكم بها حسب إرادته وهذا دليل على ان الإنسان مُخير.\n",
    "''')\n",
    "\n",
    "i=1\n",
    "\n",
    "for token in tokens2:\n",
    "    print(f'--{i}--')\n",
    "    print(f\"The Token : {token.text}\")\n",
    "    print(f\"The Shape Of The Token   : {token.shape_}\")\n",
    "    print(f\"Is The Token Is Alphapet : {token.is_alpha}\")\n",
    "    i+=1\n",
    "\n",
    "for token in tokens22:\n",
    "    print(f'--{i}--')\n",
    "    print(f\"The Token : {token.text}\")\n",
    "    print(f\"The Shape Of The Token   : {token.shape_}\")\n",
    "    print(f\"Is The Token Is Alphapet : {token.is_alpha}\")\n",
    "    i+=1\n"
   ]
  },
  {
   "cell_type": "markdown",
   "id": "589c85fb-e6d9-43e2-bf2f-89310766a879",
   "metadata": {
    "jp-MarkdownHeadingCollapsed": true
   },
   "source": [
    "## Tokenizer Sentences"
   ]
  },
  {
   "cell_type": "code",
   "execution_count": 6,
   "id": "920d2f72-a65d-4288-b424-4f102dee3d41",
   "metadata": {},
   "outputs": [
    {
     "name": "stdout",
     "output_type": "stream",
     "text": [
      "There is a latent force within every person.\n",
      "----------------------\n",
      "it could be a force of good or evil.\n",
      "----------------------\n",
      "and he can control it according to his will.\n",
      "----------------------\n",
      "and this is evidence that a person has a choice.\n",
      "----------------------\n",
      "-----------------$$$$-------------------\n",
      "داخل كل شخص قوة كامنة.\n",
      "----------------------\n",
      "من الممكن ان تكون\n",
      "----------------------\n",
      "قوة\n",
      "----------------------\n",
      "خير أو شر.كما أنه يستطيع التحكم بها حسب إرادته وهذا دليل على\n",
      "----------------------\n",
      "ان الإنسان مُخير.\n",
      "\n",
      "----------------------\n"
     ]
    }
   ],
   "source": [
    "Sentences2 = Token ('''There is a latent force within every person. it could be a force of good or evil. and he can control it according to his will. and this is evidence that a person has a choice.''')\n",
    "\n",
    "Sentences22 = Token( '''داخل كل شخص قوة كامنة. من الممكن ان تكون قوة خير أو شر.كما أنه يستطيع التحكم بها حسب إرادته وهذا دليل على ان الإنسان مُخير.\n",
    "''')\n",
    "\n",
    "for sentence in Sentences2.sents:\n",
    "    print(sentence)\n",
    "    print('----------------------')\n",
    "\n",
    "print(\"-----------------$$$$-------------------\")\n",
    "\n",
    "for sentence in Sentences22.sents:\n",
    "    print(sentence)\n",
    "    print('----------------------')"
   ]
  },
  {
   "cell_type": "markdown",
   "id": "0a418e4a-56aa-47ab-aa02-48c27435b252",
   "metadata": {
    "jp-MarkdownHeadingCollapsed": true
   },
   "source": [
    "# Tekonizer Via Gensim"
   ]
  },
  {
   "cell_type": "code",
   "execution_count": 7,
   "id": "bbcbd061-21d2-4cba-9445-2396dc9c0168",
   "metadata": {},
   "outputs": [],
   "source": [
    "from gensim.utils import tokenize"
   ]
  },
  {
   "cell_type": "markdown",
   "id": "2bfb9828-83e3-4976-92a9-4149cdade294",
   "metadata": {
    "jp-MarkdownHeadingCollapsed": true
   },
   "source": [
    "## Tokenizer Words (Only)"
   ]
  },
  {
   "cell_type": "code",
   "execution_count": 8,
   "id": "3a12b351-5059-41c4-849e-d24341e45c4e",
   "metadata": {},
   "outputs": [
    {
     "name": "stdout",
     "output_type": "stream",
     "text": [
      "['There', 'is', 'a', 'latent', 'force', 'within', 'every', 'person', 'it', 'could', 'be', 'a', 'force', 'of', 'good', 'or', 'evil', 'and', 'he', 'can', 'control', 'it', 'according', 'to', 'his', 'will', 'and', 'this', 'is', 'evidence', 'that', 'a', 'person', 'has', 'a', 'choice']\n",
      "--------------\n",
      "['داخل', 'كل', 'شخص', 'قوة', 'كامنة', 'من', 'الممكن', 'ان', 'تكون', 'قوة', 'خير', 'أو', 'شر', 'كما', 'أنه', 'يستطيع', 'التحكم', 'بها', 'حسب', 'إرادته', 'وهذا', 'دليل', 'على', 'ان', 'الإنسان', 'م', 'خير']\n"
     ]
    }
   ],
   "source": [
    "text3   = '''There is a latent force within every person, it could be a force of good or evil, and he can control it according to his will, and this is evidence that a person has a choice.'''\n",
    "\n",
    "text33  ='''داخل كل شخص قوة كامنة، من الممكن ان تكون قوة خير أو شر،كما أنه يستطيع التحكم بها حسب إرادته وهذا دليل على ان الإنسان مُخير.'''\n",
    "\n",
    "tokens3 = list(tokenize(text3))\n",
    "tokens33 = list(tokenize(text33))\n",
    "\n",
    "print(tokens3)\n",
    "print(\"--------------\")\n",
    "print(tokens33)"
   ]
  },
  {
   "cell_type": "markdown",
   "id": "c08a4392-89be-42b6-a6f4-ee52c2a5c641",
   "metadata": {
    "jp-MarkdownHeadingCollapsed": true
   },
   "source": [
    "# Tokenizer Via Keras\n"
   ]
  },
  {
   "cell_type": "code",
   "execution_count": 9,
   "id": "c7a39df4-24cd-4c6f-abc6-62084f81e5eb",
   "metadata": {},
   "outputs": [],
   "source": [
    "from keras.preprocessing.text import text_to_word_sequence"
   ]
  },
  {
   "cell_type": "markdown",
   "id": "188d7fa2-aa86-4d64-9921-c4059e9ae11c",
   "metadata": {
    "jp-MarkdownHeadingCollapsed": true
   },
   "source": [
    "## Tokenizer Words"
   ]
  },
  {
   "cell_type": "code",
   "execution_count": 10,
   "id": "73cdc1ca-739b-4086-aab8-b3fb8f6aec02",
   "metadata": {},
   "outputs": [
    {
     "name": "stdout",
     "output_type": "stream",
     "text": [
      "['there', 'is', 'a', 'latent', 'force', 'within', 'every', 'person', 'it', 'could', 'be', 'a', 'force', 'of', 'good', 'or', 'evil', 'and', 'he', 'can', 'control', 'it', 'according', 'to', 'his', 'will', 'and', 'this', 'is', 'evidence', 'that', 'a', 'person', 'has', 'a', 'choice']\n",
      "--------------------------------------\n",
      "['داخل', 'كل', 'شخص', 'قوة', 'كامنة،', 'من', 'الممكن', 'ان', 'تكون', 'قوة', 'خير', 'أو', 'شر،كما', 'أنه', 'يستطيع', 'التحكم', 'بها', 'حسب', 'إرادته', 'وهذا', 'دليل', 'على', 'ان', 'الإنسان', 'مُخير']\n"
     ]
    }
   ],
   "source": [
    "text4   = '''There is a latent force within every person, it could be a force of good or evil, and he can control it according to his will, and this is evidence that a person has a choice.'''\n",
    "\n",
    "text44  ='''داخل كل شخص قوة كامنة، من الممكن ان تكون قوة خير أو شر،كما أنه يستطيع التحكم بها حسب إرادته وهذا دليل على ان الإنسان مُخير.'''\n",
    "\n",
    "tokens4 = text_to_word_sequence(text4)\n",
    "tokens44 = text_to_word_sequence(text44)\n",
    "\n",
    "print(tokens4)\n",
    "print(\"--------------------------------------\")\n",
    "print(tokens44)\n"
   ]
  },
  {
   "cell_type": "markdown",
   "id": "26a45d89-be83-4c80-90d4-caa5b50c0835",
   "metadata": {
    "jp-MarkdownHeadingCollapsed": true
   },
   "source": [
    "## Tokenizer Sentences"
   ]
  },
  {
   "cell_type": "code",
   "execution_count": 11,
   "id": "7b70f89f-d507-45a5-b915-3a44a9b95c30",
   "metadata": {},
   "outputs": [],
   "source": [
    "text4 = '''There is a latent force within every person. it could be a force of good or evil. and he can control it according to his will. and this is evidence that a person has a choice.'''\n",
    "\n",
    "text44= '''داخل كل شخص قوة كامنة. من الممكن ان تكون قوة خير أو شر.كما أنه يستطيع التحكم بها حسب إرادته وهذا دليل على ان الإنسان مُخير.\n",
    "'''"
   ]
  },
  {
   "cell_type": "code",
   "execution_count": 12,
   "id": "cd9f876b-9f24-40b4-ae90-e5cf8c973f72",
   "metadata": {},
   "outputs": [
    {
     "data": {
      "text/plain": [
       "['there is a latent force within every person',\n",
       " ' it could be a force of good or evil',\n",
       " ' and he can control it according to his will',\n",
       " ' and this is evidence that a person has a choice']"
      ]
     },
     "execution_count": 12,
     "metadata": {},
     "output_type": "execute_result"
    }
   ],
   "source": [
    "text_to_word_sequence(text4, split= \".\", filters=\"!.\\n\")"
   ]
  },
  {
   "cell_type": "code",
   "execution_count": 13,
   "id": "f42462bb-59f9-4246-aa56-54e6bcb3c157",
   "metadata": {},
   "outputs": [
    {
     "data": {
      "text/plain": [
       "['داخل كل شخص قوة كامنة',\n",
       " ' من الممكن ان تكون قوة خير أو شر',\n",
       " 'كما أنه يستطيع التحكم بها حسب إرادته وهذا دليل على ان الإنسان مُخير']"
      ]
     },
     "execution_count": 13,
     "metadata": {},
     "output_type": "execute_result"
    }
   ],
   "source": [
    "text_to_word_sequence(text44, split= \".\", filters=\"!.\\n\")"
   ]
  },
  {
   "cell_type": "markdown",
   "id": "3542a5a4-6623-4145-88e4-48326c1a850e",
   "metadata": {},
   "source": [
    "# Thank You !!"
   ]
  }
 ],
 "metadata": {
  "kernelspec": {
   "display_name": "Python 3 (ipykernel)",
   "language": "python",
   "name": "python3"
  },
  "language_info": {
   "codemirror_mode": {
    "name": "ipython",
    "version": 3
   },
   "file_extension": ".py",
   "mimetype": "text/x-python",
   "name": "python",
   "nbconvert_exporter": "python",
   "pygments_lexer": "ipython3",
   "version": "3.11.0"
  }
 },
 "nbformat": 4,
 "nbformat_minor": 5
}
